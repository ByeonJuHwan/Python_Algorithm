{
  "nbformat": 4,
  "nbformat_minor": 0,
  "metadata": {
    "colab": {
      "provenance": [],
      "authorship_tag": "ABX9TyPt4Gs8Bd4goVIgc0r++tWc",
      "include_colab_link": true
    },
    "kernelspec": {
      "name": "python3",
      "display_name": "Python 3"
    },
    "language_info": {
      "name": "python"
    }
  },
  "cells": [
    {
      "cell_type": "markdown",
      "metadata": {
        "id": "view-in-github",
        "colab_type": "text"
      },
      "source": [
        "<a href=\"https://colab.research.google.com/github/ByeonJuHwan/Python_Algorithm/blob/main/%ED%83%90%EC%83%89%26%EC%8B%9C%EB%AE%AC%EB%A0%88%EC%9D%B4%EC%85%98/%EC%88%98%EB%93%A4%EC%9D%98_%ED%95%A9.ipynb\" target=\"_parent\"><img src=\"https://colab.research.google.com/assets/colab-badge.svg\" alt=\"Open In Colab\"/></a>"
      ]
    },
    {
      "cell_type": "markdown",
      "source": [
        "# 수들의 합\n",
        "\n",
        "N개의 수로 된 수열 A[1], A[2], ..., A[N] 이 있다.\n",
        "\n",
        " 이 수열의 i번째 수부터 j번째 수까지의 합 A[i]+A[i+1]+...+A[j-1]+A[j]가 M이 되는 경우의 수를 구하는 프로그램을 작성하시오.\n",
        "\n",
        "\n",
        "▣ 입력설명\n",
        "\n",
        "첫째 줄에 N(1≤N≤10,000), M(1≤M≤300,000,000)이 주어진다. \n",
        "\n",
        "다음 줄에는 A[1], A[2], ..., A[N]이 공백으로 분리되어 주어진다.\n",
        "\n",
        " 각각의 A[x]는 30,000을 넘지 않는 자연수이다.\n",
        "\n",
        "▣ 출력설명\n",
        "\n",
        "첫째 줄에 경우의 수를 출력한다.\n",
        "\n",
        "▣ 입력예제 1 \n",
        "\n",
        "8 3 \n",
        "\n",
        "1 2 1 3 1 1 1 2\n",
        "\n",
        "▣ 출력예제 1 \n",
        "\n",
        "5"
      ],
      "metadata": {
        "id": "LSu8sI6WAdCV"
      }
    },
    {
      "cell_type": "code",
      "source": [
        "# 내 풀이 실패..\n",
        "\n",
        "n, m = map(int,input().split())\n",
        "arr = list(map(int,input().split()))\n",
        "x=0\n",
        "count = 0\n",
        "res = 0\n",
        "while x < len(arr): # arr을 일단 돈다.\n",
        "    if arr[x]>m:\n",
        "        x +=1\n",
        "        res = 0\n",
        "        continue\n",
        "    else:\n",
        "        res += arr[x]\n",
        "        if res == m:\n",
        "            count+=1\n",
        "            print('if : ',res)\n",
        "            res=0\n",
        "            print('count = ', count)\n",
        "        elif res>m:\n",
        "            res = 0\n",
        "            x+=1\n",
        "            print('elif :', res)\n",
        "        else:\n",
        "            x+=1 \n",
        "            print('else :', res)\n",
        "count"
      ],
      "metadata": {
        "id": "bMkGftwuAqau",
        "colab": {
          "base_uri": "https://localhost:8080/"
        },
        "outputId": "bcf38fa1-efda-472c-d3d0-c4ba1f912b21"
      },
      "execution_count": null,
      "outputs": [
        {
          "output_type": "stream",
          "name": "stdout",
          "text": [
            "8 3\n",
            "1 2 1 3 1 1 1 2\n",
            "else : 1\n",
            "if :  3\n",
            "count =  1\n",
            "else : 2\n",
            "if :  3\n",
            "count =  2\n",
            "else : 1\n",
            "arr[x] :  1\n",
            "elif : 0\n",
            "else : 1\n",
            "else : 2\n",
            "elif : 0\n"
          ]
        },
        {
          "output_type": "execute_result",
          "data": {
            "text/plain": [
              "3"
            ]
          },
          "metadata": {},
          "execution_count": 4
        }
      ]
    },
    {
      "cell_type": "code",
      "source": [
        "# 강의 풀이\n",
        "n, m = map(int,input().split())\n",
        "a = list(map(int,input().split()))\n",
        "\n",
        "lt = 0\n",
        "rt = 1\n",
        "tot = a[0]\n",
        "cnt = 0\n",
        "\n",
        "while True:\n",
        "    if tot<m:\n",
        "        if rt<n:\n",
        "            tot+=a[rt]\n",
        "            rt+=1\n",
        "        else: # 인덱스의 가장 마지막에 있을때\n",
        "            break\n",
        "    elif tot == m:\n",
        "        cnt+=1\n",
        "        tot -= a[lt]\n",
        "        lt+=1\n",
        "    else:\n",
        "        tot -= a[lt]\n",
        "        lt+=1\n",
        "cnt"
      ],
      "metadata": {
        "id": "Qdi0ii8Ywhpo",
        "colab": {
          "base_uri": "https://localhost:8080/"
        },
        "outputId": "0b907c4a-eea0-4c42-e51e-dd21cf74bddc"
      },
      "execution_count": 2,
      "outputs": [
        {
          "name": "stdout",
          "output_type": "stream",
          "text": [
            "8 3\n",
            "1 2 1 3 1 1 1 2\n"
          ]
        },
        {
          "output_type": "execute_result",
          "data": {
            "text/plain": [
              "5"
            ]
          },
          "metadata": {},
          "execution_count": 2
        }
      ]
    }
  ]
}