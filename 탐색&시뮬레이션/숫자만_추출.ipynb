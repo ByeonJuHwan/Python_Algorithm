{
  "nbformat": 4,
  "nbformat_minor": 0,
  "metadata": {
    "colab": {
      "provenance": [],
      "authorship_tag": "ABX9TyPRPI6h21s/IWDNH1iqN2pq",
      "include_colab_link": true
    },
    "kernelspec": {
      "name": "python3",
      "display_name": "Python 3"
    },
    "language_info": {
      "name": "python"
    }
  },
  "cells": [
    {
      "cell_type": "markdown",
      "metadata": {
        "id": "view-in-github",
        "colab_type": "text"
      },
      "source": [
        "<a href=\"https://colab.research.google.com/github/ByeonJuHwan/Python_Algorithm/blob/main/%ED%83%90%EC%83%89%26%EC%8B%9C%EB%AE%AC%EB%A0%88%EC%9D%B4%EC%85%98/%EC%88%AB%EC%9E%90%EB%A7%8C_%EC%B6%94%EC%B6%9C.ipynb\" target=\"_parent\"><img src=\"https://colab.research.google.com/assets/colab-badge.svg\" alt=\"Open In Colab\"/></a>"
      ]
    },
    {
      "cell_type": "markdown",
      "source": [
        "# 숫자만 추출\n",
        "\n",
        "문자와 숫자가 섞여있는 문자열이 주어지면 그 중 숫자만 추출하여 그 순서대로 자연수를 만\n",
        "듭니다.\n",
        "\n",
        " 만들어진 자연수와 그 자연수의 약수 개수를 출력합니다.\n",
        "\n",
        "만약 “t0e0a1c2h0er”에서 숫자만 추출하면 0, 0, 1, 2, 0이고 이것을 자연수를 만들면 120이 \n",
        "됩니다.\n",
        "\n",
        " 즉 첫 자리 0은 자연수화 할 때 무시합니다.\n",
        " \n",
        "  출력은 120를 출력하고, 다음 줄에 120\n",
        "의 약수의 개수를 출력하면 됩니다.\n",
        "\n",
        "추출하여 만들어지는 자연수는 100,000,000을 넘지 않습니다.\n",
        "\n",
        "▣ 입력설명\n",
        "\n",
        "첫 줄에 숫자가 썩인 문자열이 주어집니다. 문자열의 길이는 50을 넘지 않습니다.\n",
        "\n",
        "▣ 출력설명\n",
        "\n",
        "첫 줄에 자연수를 출력하고, 두 번째 줄에 약수의 개수를 출력합니다.\n",
        "\n",
        "▣ 입력예제 1 \n",
        "\n",
        "g0en2Ts8eSoft\n",
        "\n",
        "▣ 출력예제 1\n",
        "\n",
        "28\n",
        "\n",
        "6\n"
      ],
      "metadata": {
        "id": "50clyjxzMkDF"
      }
    },
    {
      "cell_type": "code",
      "execution_count": 4,
      "metadata": {
        "colab": {
          "base_uri": "https://localhost:8080/"
        },
        "id": "AMXyrykVMZxS",
        "outputId": "9da00f12-7267-4cb0-9bbb-84aa1cfbeec4"
      },
      "outputs": [
        {
          "output_type": "stream",
          "name": "stdout",
          "text": [
            "g0en2Ts8eSoft\n",
            "6\n"
          ]
        }
      ],
      "source": [
        "# 강의 풀이  \n",
        "\n",
        "s = input()\n",
        "res = 0\n",
        "for x in s:\n",
        "    if x.isdecimal():\n",
        "        res = res*10+int(x)\n",
        "cnt = 0\n",
        "for i in range(1,res+1):\n",
        "    if res%i==0:\n",
        "        cnt += 1\n",
        "print(cnt)"
      ]
    },
    {
      "cell_type": "markdown",
      "source": [
        "## isdecimal() 과 isdigit()의 차이점\n",
        "\n",
        "* `isdecimal()` 은 0~9 까지의 자연수를 검사해준다.\n",
        "* `isdigit()` 은 숫자는 다찾아준다 ex) `2**2 라던ㄷ가 2**31도 찾아준다.`"
      ],
      "metadata": {
        "id": "TnVdlvw7SLz3"
      }
    }
  ]
}