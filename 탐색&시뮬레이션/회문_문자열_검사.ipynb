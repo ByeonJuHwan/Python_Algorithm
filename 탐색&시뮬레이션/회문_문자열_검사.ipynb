{
  "nbformat": 4,
  "nbformat_minor": 0,
  "metadata": {
    "colab": {
      "provenance": [],
      "authorship_tag": "ABX9TyP2gus6XVFP53POzr6D0Lde",
      "include_colab_link": true
    },
    "kernelspec": {
      "name": "python3",
      "display_name": "Python 3"
    },
    "language_info": {
      "name": "python"
    }
  },
  "cells": [
    {
      "cell_type": "markdown",
      "metadata": {
        "id": "view-in-github",
        "colab_type": "text"
      },
      "source": [
        "<a href=\"https://colab.research.google.com/github/ByeonJuHwan/Python_Algorithm/blob/main/%ED%83%90%EC%83%89%26%EC%8B%9C%EB%AE%AC%EB%A0%88%EC%9D%B4%EC%85%98/%ED%9A%8C%EB%AC%B8_%EB%AC%B8%EC%9E%90%EC%97%B4_%EA%B2%80%EC%82%AC.ipynb\" target=\"_parent\"><img src=\"https://colab.research.google.com/assets/colab-badge.svg\" alt=\"Open In Colab\"/></a>"
      ]
    },
    {
      "cell_type": "markdown",
      "source": [
        "# 회문 문자열 검사\n",
        "\n",
        "N개의 문자열 데이터를 입력받아 앞에서 읽을 때나 뒤에서 읽을 때나 같은 경우(회문 문자열) 이면 YES를 출력하고 회문 문자열이 아니면 NO를 출력하는 프로그램을 작성한다.\n",
        "단 회문을 검사할 때 대소문자를 구분하지 않습니다.\n",
        "\n",
        "\n",
        "▣ 입력설명\n",
        "\n",
        "첫 줄에 정수 N(1<=N<=20)이 주어지고, 그 다음 줄부터 N개의 단어가 입력된다. \n",
        "\n",
        "각 단어의 길이는 100을 넘지 않는다.\n",
        "\n",
        "\n",
        "▣ 출력설명\n",
        "\n",
        "각 줄에 해당 문자열의 결과를 YES 또는 NO로 출력한다.\n",
        "\n",
        "▣ 입력예제1 \n",
        "\n",
        "5\n",
        "\n",
        "level\n",
        "\n",
        "moon\n",
        "\n",
        "abcba\n",
        "\n",
        " soon\n",
        " \n",
        " \n",
        "  gooG\n",
        "\n",
        "▣ 출력예제 1\n",
        "\n",
        "`#1 YES`\n",
        "\n",
        "`#2 NO`\n",
        "\n",
        "`#3 YES`\n",
        "\n",
        "`#4 NO`\n",
        "\n",
        "`#5 YES`"
      ],
      "metadata": {
        "id": "JokKy2kt2ZNc"
      }
    },
    {
      "cell_type": "code",
      "execution_count": 10,
      "metadata": {
        "colab": {
          "base_uri": "https://localhost:8080/"
        },
        "id": "_IrMQb4Y2VF-",
        "outputId": "fbf4a94f-54d9-4f54-b998-b5663e1267e8"
      },
      "outputs": [
        {
          "output_type": "stream",
          "name": "stdout",
          "text": [
            "1\n",
            "gooG\n",
            "['G', 'O', 'O', 'G']\n",
            "['G', 'O', 'O', 'G']\n",
            "#1 YES\n"
          ]
        }
      ],
      "source": [
        "# 내 풀이\n",
        "\n",
        "# 숫자 입력을 받는다\n",
        "n = int(input())\n",
        "num = 1\n",
        "for _ in range(n):\n",
        "    s = input() # 단어 하나를 입력 받는다.\n",
        "    arr = [] # 단어를 하나씩 쪼개서 넣을 배열을 선언\n",
        "    result = []\n",
        "    for x in s:\n",
        "        arr.append(x.upper())\n",
        "    for x in range(-1,-len(arr)-1,-1):\n",
        "        result.append(arr[x].upper())    \n",
        "    if result == arr:\n",
        "        print(f'#{num} YES')    \n",
        "        num +=1\n",
        "    else:\n",
        "        print(f'#{num} NO')\n",
        "        num+=1"
      ]
    },
    {
      "cell_type": "code",
      "source": [
        "# 강의 풀이\n",
        "\n",
        "n = int(input())\n",
        "for i in range(n):\n",
        "    s = input()\n",
        "    s = s.upper() # 문자열 대문자화 메서드\n",
        "    size = len(s) # 문자열의 길이만큼 돈다.\n",
        "    for j in range(size//2): # 반절만 돌면서 5글자면은 1번째와 5번재를 비교 2번째와 4번째를 비교\n",
        "        if s[j] != s[-1-j]:\n",
        "            print(\"#%d No\" %(i+1))\n",
        "            break\n",
        "    else:\n",
        "        print(\"#%d YES\" %(i+1))"
      ],
      "metadata": {
        "colab": {
          "base_uri": "https://localhost:8080/"
        },
        "id": "RjNbzS5PHv0k",
        "outputId": "30c66247-f738-42a6-bad6-145696d0e089"
      },
      "execution_count": 12,
      "outputs": [
        {
          "output_type": "stream",
          "name": "stdout",
          "text": [
            "1\n",
            "moon\n",
            "#1 No\n"
          ]
        }
      ]
    },
    {
      "cell_type": "code",
      "source": [
        "# 더 짧은 풀이\n",
        "\n",
        "n = int(input())\n",
        "for i in range(n):\n",
        "    s = input()\n",
        "    s = s.upper() \n",
        "    if s == s[::-1]: # list를 reverse 해주는 코드.\n",
        "        print(\"#%d YES\" %(i+1))\n",
        "    else:\n",
        "        print(\"#%d No\" %(i+1))"
      ],
      "metadata": {
        "colab": {
          "base_uri": "https://localhost:8080/"
        },
        "id": "oDgaIWvuLEyk",
        "outputId": "a5d39368-3701-4da6-aa7d-a4dd79ecd35a"
      },
      "execution_count": 14,
      "outputs": [
        {
          "output_type": "stream",
          "name": "stdout",
          "text": [
            "1\n",
            "moob\n",
            "BOOM\n"
          ]
        }
      ]
    }
  ]
}