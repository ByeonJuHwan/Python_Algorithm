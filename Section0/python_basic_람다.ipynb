{
  "nbformat": 4,
  "nbformat_minor": 0,
  "metadata": {
    "colab": {
      "provenance": [],
      "authorship_tag": "ABX9TyNo1CWqoAttmykKvNGZ6EjF",
      "include_colab_link": true
    },
    "kernelspec": {
      "name": "python3",
      "display_name": "Python 3"
    },
    "language_info": {
      "name": "python"
    }
  },
  "cells": [
    {
      "cell_type": "markdown",
      "metadata": {
        "id": "view-in-github",
        "colab_type": "text"
      },
      "source": [
        "<a href=\"https://colab.research.google.com/github/ByeonJuHwan/Python_Algorithm/blob/main/Section0/python_basic_%EB%9E%8C%EB%8B%A4.ipynb\" target=\"_parent\"><img src=\"https://colab.research.google.com/assets/colab-badge.svg\" alt=\"Open In Colab\"/></a>"
      ]
    },
    {
      "cell_type": "markdown",
      "source": [
        "# 람다 함수"
      ],
      "metadata": {
        "id": "9R2ZwPjXTMcj"
      }
    },
    {
      "cell_type": "code",
      "execution_count": 2,
      "metadata": {
        "colab": {
          "base_uri": "https://localhost:8080/"
        },
        "id": "yzFxnDiFTKpC",
        "outputId": "5484717e-d31c-4bc1-bc48-799e8ebe859e"
      },
      "outputs": [
        {
          "output_type": "stream",
          "name": "stdout",
          "text": [
            "2\n"
          ]
        }
      ],
      "source": [
        "def plus_one(x):\n",
        "    return x+1\n",
        "\n",
        "print(plus_one(1))"
      ]
    },
    {
      "cell_type": "code",
      "source": [
        "# 위 함수를 람다함수로 변경\n",
        "plus_two = lambda x: x+2\n",
        "print(plus_two(1))"
      ],
      "metadata": {
        "colab": {
          "base_uri": "https://localhost:8080/"
        },
        "id": "uWlsxxsrUTE_",
        "outputId": "84fb5f19-30da-42bf-d550-e6556824b2a7"
      },
      "execution_count": 4,
      "outputs": [
        {
          "output_type": "stream",
          "name": "stdout",
          "text": [
            "3\n"
          ]
        }
      ]
    },
    {
      "cell_type": "code",
      "source": [
        "# 내장함수의 인자로 사용될때 편리\n",
        "a=[1,2,3]\n",
        "print(list(map(plus_one,a)))"
      ],
      "metadata": {
        "colab": {
          "base_uri": "https://localhost:8080/"
        },
        "id": "iLEpjy52Urc_",
        "outputId": "82c3cc82-4eab-4aea-c57d-633ffc704d9d"
      },
      "execution_count": 7,
      "outputs": [
        {
          "output_type": "stream",
          "name": "stdout",
          "text": [
            "[2, 3, 4]\n"
          ]
        }
      ]
    },
    {
      "cell_type": "code",
      "source": [
        "# 위 식과 똑같은 결과\n",
        "print(list(map(lambda x : x+1, a)))"
      ],
      "metadata": {
        "colab": {
          "base_uri": "https://localhost:8080/"
        },
        "id": "V1iHhLbDVQY8",
        "outputId": "d11fa7e2-07fd-4ad4-8748-db9cd20fac88"
      },
      "execution_count": 8,
      "outputs": [
        {
          "output_type": "stream",
          "name": "stdout",
          "text": [
            "[2, 3, 4]\n"
          ]
        }
      ]
    }
  ]
}