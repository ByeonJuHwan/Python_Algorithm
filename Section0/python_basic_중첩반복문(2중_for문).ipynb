{
  "nbformat": 4,
  "nbformat_minor": 0,
  "metadata": {
    "colab": {
      "provenance": [],
      "authorship_tag": "ABX9TyO8YnUZkTpHDtCmVzd4s1Cm",
      "include_colab_link": true
    },
    "kernelspec": {
      "name": "python3",
      "display_name": "Python 3"
    },
    "language_info": {
      "name": "python"
    }
  },
  "cells": [
    {
      "cell_type": "markdown",
      "metadata": {
        "id": "view-in-github",
        "colab_type": "text"
      },
      "source": [
        "<a href=\"https://colab.research.google.com/github/ByeonJuHwan/Python_Algorithm/blob/main/Section0/python_basic_%EC%A4%91%EC%B2%A9%EB%B0%98%EB%B3%B5%EB%AC%B8(2%EC%A4%91_for%EB%AC%B8).ipynb\" target=\"_parent\"><img src=\"https://colab.research.google.com/assets/colab-badge.svg\" alt=\"Open In Colab\"/></a>"
      ]
    },
    {
      "cell_type": "markdown",
      "source": [
        "# 중첩 반복문(2중 for문)"
      ],
      "metadata": {
        "id": "iO5Yd8mX9YZ4"
      }
    },
    {
      "cell_type": "code",
      "execution_count": 14,
      "metadata": {
        "id": "ij2Va2MQ9ME_",
        "colab": {
          "base_uri": "https://localhost:8080/"
        },
        "outputId": "9d78039c-1f02-49d7-958e-f3bd0d691329"
      },
      "outputs": [
        {
          "output_type": "stream",
          "name": "stdout",
          "text": [
            "i : 0 j : 0 j : 1 j : 2 j : 3 j : 4 \n",
            "i : 1 j : 0 j : 1 j : 2 j : 3 j : 4 \n",
            "i : 2 j : 0 j : 1 j : 2 j : 3 j : 4 \n",
            "i : 3 j : 0 j : 1 j : 2 j : 3 j : 4 \n",
            "i : 4 j : 0 j : 1 j : 2 j : 3 j : 4 \n"
          ]
        }
      ],
      "source": [
        "for i in range(5):\n",
        "    print('i', i, sep=' : ', end=' ')\n",
        "    for j in range(5):\n",
        "        print('j',j,sep=' : ', end=' ')\n",
        "    print() # 줄바꿈"
      ]
    },
    {
      "cell_type": "code",
      "source": [
        "for i in range(5):\n",
        "    for j in range(5):\n",
        "        print('*',end='')\n",
        "    print() # 줄바꿈"
      ],
      "metadata": {
        "colab": {
          "base_uri": "https://localhost:8080/"
        },
        "id": "BzhPLN-9yxUH",
        "outputId": "ab2145bd-179c-4f66-d905-e5aa8cc362d4"
      },
      "execution_count": 15,
      "outputs": [
        {
          "output_type": "stream",
          "name": "stdout",
          "text": [
            "*****\n",
            "*****\n",
            "*****\n",
            "*****\n",
            "*****\n"
          ]
        }
      ]
    },
    {
      "cell_type": "code",
      "source": [
        "for i in range(5):\n",
        "    for j in range(i+1):\n",
        "        print('*',end='')\n",
        "    print() # 줄바꿈"
      ],
      "metadata": {
        "colab": {
          "base_uri": "https://localhost:8080/"
        },
        "id": "teybxRsPz76E",
        "outputId": "6914b07f-c4f2-4029-bdd4-541608b75820"
      },
      "execution_count": 16,
      "outputs": [
        {
          "output_type": "stream",
          "name": "stdout",
          "text": [
            "*\n",
            "**\n",
            "***\n",
            "****\n",
            "*****\n"
          ]
        }
      ]
    },
    {
      "cell_type": "code",
      "source": [
        "for i in range(5):\n",
        "    for j in range(5-i):\n",
        "        print('*',end='')\n",
        "    print() # 줄바꿈"
      ],
      "metadata": {
        "colab": {
          "base_uri": "https://localhost:8080/"
        },
        "id": "Cq3xbVBL0PrC",
        "outputId": "9ea1192d-5691-42a2-dbe8-58be0e94c904"
      },
      "execution_count": 17,
      "outputs": [
        {
          "output_type": "stream",
          "name": "stdout",
          "text": [
            "*****\n",
            "****\n",
            "***\n",
            "**\n",
            "*\n"
          ]
        }
      ]
    }
  ]
}