{
  "nbformat": 4,
  "nbformat_minor": 0,
  "metadata": {
    "colab": {
      "provenance": [],
      "authorship_tag": "ABX9TyMLbXRwvS03ki8xKgmlrRp5",
      "include_colab_link": true
    },
    "kernelspec": {
      "name": "python3",
      "display_name": "Python 3"
    },
    "language_info": {
      "name": "python"
    }
  },
  "cells": [
    {
      "cell_type": "markdown",
      "metadata": {
        "id": "view-in-github",
        "colab_type": "text"
      },
      "source": [
        "<a href=\"https://colab.research.google.com/github/ByeonJuHwan/Python_Algorithm/blob/main/Section0/python_basic_%EC%A1%B0%EA%B1%B4%EB%AC%B8.ipynb\" target=\"_parent\"><img src=\"https://colab.research.google.com/assets/colab-badge.svg\" alt=\"Open In Colab\"/></a>"
      ]
    },
    {
      "cell_type": "markdown",
      "source": [
        "# 조건문 if(분기, 중첩)"
      ],
      "metadata": {
        "id": "R-Wj94UsVfBF"
      }
    },
    {
      "cell_type": "code",
      "execution_count": 5,
      "metadata": {
        "colab": {
          "base_uri": "https://localhost:8080/"
        },
        "id": "XIfaMGxdVKLy",
        "outputId": "b26a32f0-938f-4f50-8fe5-cb8deb154048"
      },
      "outputs": [
        {
          "output_type": "stream",
          "name": "stdout",
          "text": [
            "Lucky\n"
          ]
        }
      ],
      "source": [
        "x = 5\n",
        "if x != 7:\n",
        "    print('Lucky')"
      ]
    },
    {
      "cell_type": "code",
      "source": [
        "# 중첩 if문\n",
        "x=15\n",
        "if x>=10:\n",
        "    if x%2 ==1:\n",
        "        print(\"10이상의 홀수\")"
      ],
      "metadata": {
        "colab": {
          "base_uri": "https://localhost:8080/"
        },
        "id": "2Dbu1xtvWiBw",
        "outputId": "8a95d74c-f7b5-4a17-c8a0-2b29fc777834"
      },
      "execution_count": 7,
      "outputs": [
        {
          "output_type": "stream",
          "name": "stdout",
          "text": [
            "10이상의 홀수\n"
          ]
        }
      ]
    },
    {
      "cell_type": "code",
      "source": [
        "x=9\n",
        "if x>0:\n",
        "    if x<10:\n",
        "        print(\"10보다 작은 자연수\")"
      ],
      "metadata": {
        "colab": {
          "base_uri": "https://localhost:8080/"
        },
        "id": "nsPdJxyuXC5h",
        "outputId": "88a372bd-9780-4ba3-9038-647a1d76f012"
      },
      "execution_count": 9,
      "outputs": [
        {
          "output_type": "stream",
          "name": "stdout",
          "text": [
            "10보다 작은 자연수\n"
          ]
        }
      ]
    },
    {
      "cell_type": "code",
      "source": [
        "x=7\n",
        "if x>0 and x<10:\n",
        "    print(\"10보다 작은 자연수\")"
      ],
      "metadata": {
        "colab": {
          "base_uri": "https://localhost:8080/"
        },
        "id": "Yl8RXf4hXduw",
        "outputId": "e282cdc1-344a-44f2-e06d-eac285454a2c"
      },
      "execution_count": 11,
      "outputs": [
        {
          "output_type": "stream",
          "name": "stdout",
          "text": [
            "10보다 작은 자연수\n"
          ]
        }
      ]
    },
    {
      "cell_type": "code",
      "source": [
        "x=7\n",
        "if 0<x<10:\n",
        "    print(\"10보다 작은 자연수\")"
      ],
      "metadata": {
        "colab": {
          "base_uri": "https://localhost:8080/"
        },
        "id": "74FEWv1IX5H2",
        "outputId": "738c14d6-1d51-4582-e6d9-2be389cae862"
      },
      "execution_count": 12,
      "outputs": [
        {
          "output_type": "stream",
          "name": "stdout",
          "text": [
            "10보다 작은 자연수\n"
          ]
        }
      ]
    },
    {
      "cell_type": "code",
      "source": [
        "x = 10\n",
        "if x>0:\n",
        "    print(\"양수\")\n",
        "else:\n",
        "    print(\"음수\")"
      ],
      "metadata": {
        "colab": {
          "base_uri": "https://localhost:8080/"
        },
        "id": "AruBvp5jX-SD",
        "outputId": "d6877d40-e156-498e-efe2-706816ef6252"
      },
      "execution_count": 13,
      "outputs": [
        {
          "output_type": "stream",
          "name": "stdout",
          "text": [
            "양수\n"
          ]
        }
      ]
    },
    {
      "cell_type": "code",
      "source": [
        "x = 3\n",
        "if x>90:\n",
        "    print('A')\n",
        "elif x>=80:\n",
        "    print('B')\n",
        "elif x>=70:\n",
        "    print('C')\n",
        "else:\n",
        "    print('F')\n"
      ],
      "metadata": {
        "colab": {
          "base_uri": "https://localhost:8080/"
        },
        "id": "p99Pp4UvYZSe",
        "outputId": "53866ff3-2606-4768-c7b7-2cb02eb69fb0"
      },
      "execution_count": 15,
      "outputs": [
        {
          "output_type": "stream",
          "name": "stdout",
          "text": [
            "F\n"
          ]
        }
      ]
    }
  ]
}