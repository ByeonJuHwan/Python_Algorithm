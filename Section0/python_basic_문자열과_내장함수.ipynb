{
  "nbformat": 4,
  "nbformat_minor": 0,
  "metadata": {
    "colab": {
      "provenance": [],
      "authorship_tag": "ABX9TyNNtdDFiSq0Q6wZ2bj5kLYt",
      "include_colab_link": true
    },
    "kernelspec": {
      "name": "python3",
      "display_name": "Python 3"
    },
    "language_info": {
      "name": "python"
    }
  },
  "cells": [
    {
      "cell_type": "markdown",
      "metadata": {
        "id": "view-in-github",
        "colab_type": "text"
      },
      "source": [
        "<a href=\"https://colab.research.google.com/github/ByeonJuHwan/Python_Algorithm/blob/main/Section0/python_basic_%EB%AC%B8%EC%9E%90%EC%97%B4%EA%B3%BC_%EB%82%B4%EC%9E%A5%ED%95%A8%EC%88%98.ipynb\" target=\"_parent\"><img src=\"https://colab.research.google.com/assets/colab-badge.svg\" alt=\"Open In Colab\"/></a>"
      ]
    },
    {
      "cell_type": "markdown",
      "source": [
        "# 문자열과 내장함수"
      ],
      "metadata": {
        "id": "4apylAf-1NzE"
      }
    },
    {
      "cell_type": "code",
      "execution_count": 2,
      "metadata": {
        "colab": {
          "base_uri": "https://localhost:8080/"
        },
        "id": "_Eyqaatc1M_T",
        "outputId": "94b771f5-56eb-4b76-dc14-173db9a7971d"
      },
      "outputs": [
        {
          "output_type": "stream",
          "name": "stdout",
          "text": [
            "IT IS TIME\n"
          ]
        }
      ],
      "source": [
        "# 대문자로 변경 upper()\n",
        "msg = \"It is Time\"\n",
        "print(msg.upper())"
      ]
    },
    {
      "cell_type": "code",
      "source": [
        "# 소문자로 변경\n",
        "print(msg.lower())"
      ],
      "metadata": {
        "colab": {
          "base_uri": "https://localhost:8080/"
        },
        "id": "6aJJTYuP1nUi",
        "outputId": "7d65ba16-86a8-49ff-ef29-abe53ad9da62"
      },
      "execution_count": 3,
      "outputs": [
        {
          "output_type": "stream",
          "name": "stdout",
          "text": [
            "it is time\n"
          ]
        }
      ]
    },
    {
      "cell_type": "code",
      "source": [
        "tmp = msg.upper()\n",
        "print(tmp)"
      ],
      "metadata": {
        "colab": {
          "base_uri": "https://localhost:8080/"
        },
        "id": "a8GMfZSh1yr2",
        "outputId": "fed2f278-ab43-4934-93a1-b65b40dc0664"
      },
      "execution_count": 5,
      "outputs": [
        {
          "output_type": "stream",
          "name": "stdout",
          "text": [
            "IT IS TIME\n"
          ]
        }
      ]
    },
    {
      "cell_type": "code",
      "source": [
        "# 문자열의 인덱스 번호를 리턴해준다. find()\n",
        "print(tmp.find('T'))"
      ],
      "metadata": {
        "colab": {
          "base_uri": "https://localhost:8080/"
        },
        "id": "JSUntczx18kM",
        "outputId": "b24a4ff7-a08d-44ba-bb6e-f140954a8092"
      },
      "execution_count": 6,
      "outputs": [
        {
          "output_type": "stream",
          "name": "stdout",
          "text": [
            "1\n"
          ]
        }
      ]
    },
    {
      "cell_type": "code",
      "source": [
        "# 문자열안의 대문자 T가 몇개 있는지 알려줌\n",
        "print(tmp.count('T'))"
      ],
      "metadata": {
        "colab": {
          "base_uri": "https://localhost:8080/"
        },
        "id": "6PAPhvbp2Dtp",
        "outputId": "d715f0bd-3dd5-4629-f50f-cddcd60835bb"
      },
      "execution_count": 7,
      "outputs": [
        {
          "output_type": "stream",
          "name": "stdout",
          "text": [
            "2\n"
          ]
        }
      ]
    },
    {
      "cell_type": "code",
      "source": [
        "# 문자열을 잘라준다.\n",
        "print(msg[:2])\n",
        "print(msg[3:5])"
      ],
      "metadata": {
        "colab": {
          "base_uri": "https://localhost:8080/"
        },
        "id": "Lcvr4tKR2edO",
        "outputId": "45e10a4a-a9dd-4fa8-aa60-846d5023cbd0"
      },
      "execution_count": 9,
      "outputs": [
        {
          "output_type": "stream",
          "name": "stdout",
          "text": [
            "It\n",
            "is\n"
          ]
        }
      ]
    },
    {
      "cell_type": "code",
      "source": [
        "# 문자열의 길이를 구해준다. len()\n",
        "print(len(msg))"
      ],
      "metadata": {
        "colab": {
          "base_uri": "https://localhost:8080/"
        },
        "id": "maEmLHBX2pnC",
        "outputId": "1d971bd1-70b7-43f0-9527-429d145e30f2"
      },
      "execution_count": 11,
      "outputs": [
        {
          "output_type": "stream",
          "name": "stdout",
          "text": [
            "10\n"
          ]
        }
      ]
    },
    {
      "cell_type": "code",
      "source": [
        "for i in range(len(msg)):\n",
        "    print(msg[i],end=' ')"
      ],
      "metadata": {
        "colab": {
          "base_uri": "https://localhost:8080/"
        },
        "id": "rDkA8pWw3OdL",
        "outputId": "8cba6c21-7564-4fe7-dc50-3eaf1baeb8f3"
      },
      "execution_count": 14,
      "outputs": [
        {
          "output_type": "stream",
          "name": "stdout",
          "text": [
            "I t   i s   T i m e "
          ]
        }
      ]
    },
    {
      "cell_type": "code",
      "source": [
        "# i가 msg의 문자열 하나하나 접근\n",
        "for i in msg:\n",
        "    print(i, end=' ')"
      ],
      "metadata": {
        "colab": {
          "base_uri": "https://localhost:8080/"
        },
        "id": "HHZW2sQj3kzr",
        "outputId": "e1638a8a-442c-46fd-aefd-270f93681555"
      },
      "execution_count": 17,
      "outputs": [
        {
          "output_type": "stream",
          "name": "stdout",
          "text": [
            "I t   i s   T i m e "
          ]
        }
      ]
    },
    {
      "cell_type": "code",
      "source": [
        "# isupper() 대문자인지 아닌지 확인해준다.\n",
        "for i in msg:\n",
        "    if i.isupper():\n",
        "        print(i, end=' ')\n",
        "\n",
        "print()\n",
        "\n",
        "# islower() 소문지인지 아닌지 확인해준다.\n",
        "for i in msg:\n",
        "    if i.islower():\n",
        "        print(i, end=' ')\n",
        "\n",
        "print()\n",
        "\n",
        "# 알파벳일때만 참이된다. 즉 공백을 제거해준다.\n",
        "for i in msg:\n",
        "    if i.isalpha():\n",
        "        print(i, end='')"
      ],
      "metadata": {
        "colab": {
          "base_uri": "https://localhost:8080/"
        },
        "id": "8hzqJCR233Jg",
        "outputId": "62ca23db-752a-4028-8861-521b778792d1"
      },
      "execution_count": 22,
      "outputs": [
        {
          "output_type": "stream",
          "name": "stdout",
          "text": [
            "I T \n",
            "t i s i m e \n",
            "ItisTime"
          ]
        }
      ]
    },
    {
      "cell_type": "code",
      "source": [
        "# ord는 아스키넘버를 출력해준다.\n",
        "tmp='AZ'\n",
        "for i in tmp:\n",
        "    print(ord(i))\n",
        "\n",
        "tmp = 'az'\n",
        "for i in tmp:\n",
        "    print(ord(i))\n",
        "\n",
        "# 아스키넘버에 대응되는 문자를 출력해준다. chr()\n",
        "tmp = 65\n",
        "print(chr(tmp))"
      ],
      "metadata": {
        "colab": {
          "base_uri": "https://localhost:8080/"
        },
        "id": "y6wT8O0w4VD1",
        "outputId": "d1c4c089-3809-4206-e475-f0f162ef2c5f"
      },
      "execution_count": 25,
      "outputs": [
        {
          "output_type": "stream",
          "name": "stdout",
          "text": [
            "65\n",
            "90\n",
            "97\n",
            "122\n",
            "A\n"
          ]
        }
      ]
    }
  ]
}