{
  "nbformat": 4,
  "nbformat_minor": 0,
  "metadata": {
    "colab": {
      "provenance": [],
      "authorship_tag": "ABX9TyMq1RV5VwPtINto0nKftC8/",
      "include_colab_link": true
    },
    "kernelspec": {
      "name": "python3",
      "display_name": "Python 3"
    },
    "language_info": {
      "name": "python"
    }
  },
  "cells": [
    {
      "cell_type": "markdown",
      "metadata": {
        "id": "view-in-github",
        "colab_type": "text"
      },
      "source": [
        "<a href=\"https://colab.research.google.com/github/ByeonJuHwan/Python_Algorithm/blob/main/Section0/python_basic_%EB%B0%98%EB%B3%B5%EB%AC%B8EX.ipynb\" target=\"_parent\"><img src=\"https://colab.research.google.com/assets/colab-badge.svg\" alt=\"Open In Colab\"/></a>"
      ]
    },
    {
      "cell_type": "markdown",
      "source": [
        "# 반복문을 이용한 문제풀이\n",
        "\n",
        "* 1부터 N까지 홀수 출력하기\n",
        "* 1부터 N까지의 합 구하기\n",
        "* N의 약수 출력하기"
      ],
      "metadata": {
        "id": "7KYRRi-p6oZz"
      }
    },
    {
      "cell_type": "code",
      "execution_count": 5,
      "metadata": {
        "colab": {
          "base_uri": "https://localhost:8080/"
        },
        "id": "X0CIxrAg6aJD",
        "outputId": "14c705c3-8148-4d86-e5ad-71ef048abd71"
      },
      "outputs": [
        {
          "output_type": "stream",
          "name": "stdout",
          "text": [
            "숫자를 입력해주세요>> 10\n",
            "1 3 5 7 9 "
          ]
        }
      ],
      "source": [
        "# 1부터 N까지의 홀수 출력하기 -- 내 풀이\n",
        "N = int(input('숫자를 입력해주세요>> '))\n",
        "for i in range(1,N+1):\n",
        "    if i%2==1:\n",
        "        print(i, end=' ')"
      ]
    },
    {
      "cell_type": "code",
      "source": [
        "# 1부터 N까지의 합 구하기 \n",
        "N = int(input('숫자를 입력해주세요>> '))\n",
        "sum = 0\n",
        "for i in range(1,N+1):\n",
        "    sum = sum + i\n",
        "print(sum)"
      ],
      "metadata": {
        "colab": {
          "base_uri": "https://localhost:8080/"
        },
        "id": "3hAIOfHM7hjv",
        "outputId": "525a0b1f-0d46-47d8-b4d4-6c59f30e2176"
      },
      "execution_count": 3,
      "outputs": [
        {
          "output_type": "stream",
          "name": "stdout",
          "text": [
            "숫자를 입력해주세요>> 10\n",
            "55\n"
          ]
        }
      ]
    },
    {
      "cell_type": "code",
      "source": [
        "# N의 약수 출력하기\n",
        "N = int(input('숫자를 입력해주세요>> '))\n",
        "for i in range(1,N+1):\n",
        "    if N%i==0:\n",
        "        print(i, end=' ')"
      ],
      "metadata": {
        "colab": {
          "base_uri": "https://localhost:8080/"
        },
        "id": "4btuaCQz8RNq",
        "outputId": "426d2c68-6fea-40b0-e53a-46141407dcb1"
      },
      "execution_count": 4,
      "outputs": [
        {
          "output_type": "stream",
          "name": "stdout",
          "text": [
            "숫자를 입력해주세요>> 10\n",
            "1 2 5 10 "
          ]
        }
      ]
    }
  ]
}