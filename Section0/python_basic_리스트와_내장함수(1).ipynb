{
  "nbformat": 4,
  "nbformat_minor": 0,
  "metadata": {
    "colab": {
      "provenance": [],
      "authorship_tag": "ABX9TyM5aQ/q5ZpVfPcLS3D7Hb1K",
      "include_colab_link": true
    },
    "kernelspec": {
      "name": "python3",
      "display_name": "Python 3"
    },
    "language_info": {
      "name": "python"
    }
  },
  "cells": [
    {
      "cell_type": "markdown",
      "metadata": {
        "id": "view-in-github",
        "colab_type": "text"
      },
      "source": [
        "<a href=\"https://colab.research.google.com/github/ByeonJuHwan/Python_Algorithm/blob/main/Section0/python_basic_%EB%A6%AC%EC%8A%A4%ED%8A%B8%EC%99%80_%EB%82%B4%EC%9E%A5%ED%95%A8%EC%88%98(1).ipynb\" target=\"_parent\"><img src=\"https://colab.research.google.com/assets/colab-badge.svg\" alt=\"Open In Colab\"/></a>"
      ]
    },
    {
      "cell_type": "markdown",
      "source": [
        "# 리스트와 내장함수(1)"
      ],
      "metadata": {
        "id": "UPaeyDYW5rrD"
      }
    },
    {
      "cell_type": "code",
      "execution_count": 50,
      "metadata": {
        "id": "TCrz4ebm5oMg"
      },
      "outputs": [],
      "source": [
        "# random하게 하나 뽑을때 사용하는 import\n",
        "import random as r"
      ]
    },
    {
      "cell_type": "code",
      "source": [
        "# 빈 리스트\n",
        "a = []\n",
        "print(a)\n",
        "\n",
        "b = list()\n",
        "print(b)"
      ],
      "metadata": {
        "colab": {
          "base_uri": "https://localhost:8080/"
        },
        "id": "_c2YPn6m56n6",
        "outputId": "2747723c-29c0-4dae-d164-aaecf8586d21"
      },
      "execution_count": 51,
      "outputs": [
        {
          "output_type": "stream",
          "name": "stdout",
          "text": [
            "[]\n",
            "[]\n"
          ]
        }
      ]
    },
    {
      "cell_type": "code",
      "source": [
        "a=[1,2,3,4,5]\n",
        "print(a)\n",
        "print(a[0])\n",
        "\n",
        "b = list(range(1,11))\n",
        "print(b)"
      ],
      "metadata": {
        "colab": {
          "base_uri": "https://localhost:8080/"
        },
        "id": "pKMvzuXd6CYI",
        "outputId": "008c6a69-1203-4dc9-8368-f86068d48fb5"
      },
      "execution_count": 52,
      "outputs": [
        {
          "output_type": "stream",
          "name": "stdout",
          "text": [
            "[1, 2, 3, 4, 5]\n",
            "1\n",
            "[1, 2, 3, 4, 5, 6, 7, 8, 9, 10]\n"
          ]
        }
      ]
    },
    {
      "cell_type": "code",
      "source": [
        "# 리스트 끼리 합치기\n",
        "c = a + b\n",
        "print(c)"
      ],
      "metadata": {
        "colab": {
          "base_uri": "https://localhost:8080/"
        },
        "id": "h76a0pu66qOH",
        "outputId": "4ba80e95-dad9-434a-8d7e-af27eeaf75ce"
      },
      "execution_count": 53,
      "outputs": [
        {
          "output_type": "stream",
          "name": "stdout",
          "text": [
            "[1, 2, 3, 4, 5, 1, 2, 3, 4, 5, 6, 7, 8, 9, 10]\n"
          ]
        }
      ]
    },
    {
      "cell_type": "code",
      "source": [
        "# 리스트에 값 추가하기\n",
        "print(a)\n",
        "a.append(6)\n",
        "print(a)\n",
        "\n",
        "# 특정 인덱스에 값 삽입하기\n",
        "a.insert(3,7)\n",
        "print(a)\n",
        "\n",
        "# 맨뒤 인덱스 값 꺼내기\n",
        "a.pop()\n",
        "print(a)\n",
        "\n",
        "# 특정 인덱스 값 꺼내기\n",
        "a.pop(-3)\n",
        "print(a)\n",
        "\n",
        "# 값 지우기\n",
        "a.remove(4)\n",
        "print(a)\n",
        "\n",
        "# 파라미터에 전달된 값이 몇번째 인덱스에 있느지 알려준다.\n",
        "print(a.index(5))"
      ],
      "metadata": {
        "colab": {
          "base_uri": "https://localhost:8080/"
        },
        "id": "ZrCExZft6toM",
        "outputId": "4468b83f-b20b-468f-f2ae-83788b2e3838"
      },
      "execution_count": 54,
      "outputs": [
        {
          "output_type": "stream",
          "name": "stdout",
          "text": [
            "[1, 2, 3, 4, 5]\n",
            "[1, 2, 3, 4, 5, 6]\n",
            "[1, 2, 3, 7, 4, 5, 6]\n",
            "[1, 2, 3, 7, 4, 5]\n",
            "[1, 2, 3, 4, 5]\n",
            "[1, 2, 3, 5]\n",
            "3\n"
          ]
        }
      ]
    },
    {
      "cell_type": "code",
      "source": [
        "# 리스트안의 값을 모두 더해준다. sum()\n",
        "a = list(range(1,11))\n",
        "print(a)\n",
        "print(sum(a))\n",
        "\n",
        "# 리스트안에 가장큰 값을 출력해준다.\n",
        "print(max(a))\n",
        "\n",
        "# 리스트안에 가장 작은 값을 출력해준다\n",
        "print(min(a))\n",
        "print(min(7,4))"
      ],
      "metadata": {
        "colab": {
          "base_uri": "https://localhost:8080/"
        },
        "id": "iEH-zBsm8J6y",
        "outputId": "d233a822-d519-4d03-c219-c48efb240d8a"
      },
      "execution_count": 62,
      "outputs": [
        {
          "output_type": "stream",
          "name": "stdout",
          "text": [
            "[1, 2, 3, 4, 5, 6, 7, 8, 9, 10]\n",
            "55\n",
            "10\n",
            "1\n",
            "4\n"
          ]
        }
      ]
    },
    {
      "cell_type": "code",
      "source": [
        "# 값 무작위로 섞어보기\n",
        "r.shuffle(a)\n",
        "print(a)\n",
        "\n",
        "# 오름차순 정렬\n",
        "a.sort()\n",
        "print(a)\n",
        "\n",
        "# 내림차순 정렬\n",
        "a.sort(reverse=True)\n",
        "print(a)"
      ],
      "metadata": {
        "colab": {
          "base_uri": "https://localhost:8080/"
        },
        "id": "S1GleY0a9CBa",
        "outputId": "2c2c6af0-760e-4995-b093-e86382057d0b"
      },
      "execution_count": 68,
      "outputs": [
        {
          "output_type": "stream",
          "name": "stdout",
          "text": [
            "[4, 3, 6, 8, 1, 2, 5, 7, 9, 10]\n",
            "[1, 2, 3, 4, 5, 6, 7, 8, 9, 10]\n",
            "[10, 9, 8, 7, 6, 5, 4, 3, 2, 1]\n"
          ]
        }
      ]
    },
    {
      "cell_type": "code",
      "source": [
        "# 리스트값 모두 삭제 \n",
        "a.clear()\n",
        "print(a)"
      ],
      "metadata": {
        "colab": {
          "base_uri": "https://localhost:8080/"
        },
        "id": "wV1xa5Fw9shN",
        "outputId": "1b9cdba6-4de7-48a7-ad24-30686c27e4f1"
      },
      "execution_count": 69,
      "outputs": [
        {
          "output_type": "stream",
          "name": "stdout",
          "text": [
            "[]\n"
          ]
        }
      ]
    }
  ]
}