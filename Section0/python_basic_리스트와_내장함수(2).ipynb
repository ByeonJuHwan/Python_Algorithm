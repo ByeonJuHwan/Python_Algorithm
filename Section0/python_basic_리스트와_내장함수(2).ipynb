{
  "nbformat": 4,
  "nbformat_minor": 0,
  "metadata": {
    "colab": {
      "provenance": [],
      "authorship_tag": "ABX9TyNQNWmgeHDUw5FsZtJNJQWh",
      "include_colab_link": true
    },
    "kernelspec": {
      "name": "python3",
      "display_name": "Python 3"
    },
    "language_info": {
      "name": "python"
    }
  },
  "cells": [
    {
      "cell_type": "markdown",
      "metadata": {
        "id": "view-in-github",
        "colab_type": "text"
      },
      "source": [
        "<a href=\"https://colab.research.google.com/github/ByeonJuHwan/Python_Algorithm/blob/main/Section0/python_basic_%EB%A6%AC%EC%8A%A4%ED%8A%B8%EC%99%80_%EB%82%B4%EC%9E%A5%ED%95%A8%EC%88%98(2).ipynb\" target=\"_parent\"><img src=\"https://colab.research.google.com/assets/colab-badge.svg\" alt=\"Open In Colab\"/></a>"
      ]
    },
    {
      "cell_type": "markdown",
      "source": [
        "# 리스트와 내장함수(2)"
      ],
      "metadata": {
        "id": "6XmWZ96k-HBt"
      }
    },
    {
      "cell_type": "code",
      "execution_count": 29,
      "metadata": {
        "id": "jOOvvH2Y-FDB",
        "colab": {
          "base_uri": "https://localhost:8080/"
        },
        "outputId": "dc5da9fb-53de-4dcb-c95f-c3ede06de699"
      },
      "outputs": [
        {
          "output_type": "stream",
          "name": "stdout",
          "text": [
            "[23, 12, 36]\n",
            "[12, 36, 53]\n"
          ]
        }
      ],
      "source": [
        "a=[23,12,36,53,19]\n",
        "print(a[:3])\n",
        "print(a[1:4])"
      ]
    },
    {
      "cell_type": "code",
      "source": [
        "# list의 길이\n",
        "print(len(a))"
      ],
      "metadata": {
        "colab": {
          "base_uri": "https://localhost:8080/"
        },
        "id": "pbE1-c87Fjz-",
        "outputId": "ab38ccf6-14dc-4126-a220-19bbabb40c61"
      },
      "execution_count": 30,
      "outputs": [
        {
          "output_type": "stream",
          "name": "stdout",
          "text": [
            "5\n"
          ]
        }
      ]
    },
    {
      "cell_type": "code",
      "source": [
        "# list의 값 접근하기\n",
        "for i in range(len(a)):\n",
        "    print(a[i], end=' ')\n",
        "\n",
        "print()\n",
        "\n",
        "for i in a:\n",
        "    print(i, end=' ')\n",
        "\n",
        "print()\n",
        "\n",
        "for i in a:\n",
        "    if i%2==1:\n",
        "        print(i, end=' ')\n",
        "\n",
        "print()\n",
        "\n",
        "# 인덱스 번호까지 값을 출력하고 싶을때\n",
        "for i in enumerate(a):\n",
        "    print(i, end=' ')"
      ],
      "metadata": {
        "colab": {
          "base_uri": "https://localhost:8080/"
        },
        "id": "dh3k8ZFXFsp1",
        "outputId": "7f048054-2e1a-46c4-b186-1c9c49db5dd1"
      },
      "execution_count": 31,
      "outputs": [
        {
          "output_type": "stream",
          "name": "stdout",
          "text": [
            "23 12 36 53 19 \n",
            "23 12 36 53 19 \n",
            "23 53 19 \n",
            "(0, 23) (1, 12) (2, 36) (3, 53) (4, 19) "
          ]
        }
      ]
    },
    {
      "cell_type": "markdown",
      "source": [
        "## 튜플과 리스트의 다른점\n",
        "\n",
        "튜플은 리스트와 다르게 절대 변경이 불가능하다 아래 예시 참고."
      ],
      "metadata": {
        "id": "ebG2dNAxHhQ4"
      }
    },
    {
      "cell_type": "code",
      "source": [
        "b=(1,2,3,4,5) # 튜플 설정\n",
        "print(b[0]) # 여기까진 list와 동일\n",
        "#b[0]=7 --> 여기서 에러발생 튜플값은 변경 불가"
      ],
      "metadata": {
        "colab": {
          "base_uri": "https://localhost:8080/"
        },
        "id": "LnODCTV_Ho2r",
        "outputId": "3efb829c-3abc-4409-8317-bff2879138f3"
      },
      "execution_count": 32,
      "outputs": [
        {
          "output_type": "stream",
          "name": "stdout",
          "text": [
            "1\n"
          ]
        }
      ]
    },
    {
      "cell_type": "code",
      "source": [
        "# 가장 많이 사용하는 방법\n",
        "for index, value in enumerate(a):\n",
        "    print(index, value)"
      ],
      "metadata": {
        "colab": {
          "base_uri": "https://localhost:8080/"
        },
        "id": "yPCM-04fIIKy",
        "outputId": "bc8a124c-e499-4388-d787-8d2ee420950b"
      },
      "execution_count": 33,
      "outputs": [
        {
          "output_type": "stream",
          "name": "stdout",
          "text": [
            "0 23\n",
            "1 12\n",
            "2 36\n",
            "3 53\n",
            "4 19\n"
          ]
        }
      ]
    },
    {
      "cell_type": "code",
      "source": [
        "# 모든 값이 참이 나올때 참을 리턴\n",
        "if all(60>x for x in a):\n",
        "    print(\"YES\")\n",
        "else:\n",
        "    print(\"No\")\n",
        "\n",
        "\n",
        "if all(50>x for x in a):\n",
        "    print(\"YES\")\n",
        "else:\n",
        "    print(\"No\")"
      ],
      "metadata": {
        "colab": {
          "base_uri": "https://localhost:8080/"
        },
        "id": "ojrTR1N7Io9o",
        "outputId": "45efe4fb-bb0f-4da5-a75b-320d6ad34e07"
      },
      "execution_count": 34,
      "outputs": [
        {
          "output_type": "stream",
          "name": "stdout",
          "text": [
            "YES\n",
            "No\n"
          ]
        }
      ]
    },
    {
      "cell_type": "code",
      "source": [
        "# 한번이라도 참이 되는 값이 있으면 참 리턴\n",
        "if any(15>x for x in a):\n",
        "    print(\"YES\")\n",
        "else:\n",
        "    print(\"No\")\n",
        "\n",
        "\n",
        "if all(10>x for x in a):\n",
        "    print(\"YES\")\n",
        "else:\n",
        "    print(\"No\")"
      ],
      "metadata": {
        "colab": {
          "base_uri": "https://localhost:8080/"
        },
        "id": "XKdNOVc7KxW-",
        "outputId": "25b42920-354d-45ca-905b-bb22c1cb3a8e"
      },
      "execution_count": 35,
      "outputs": [
        {
          "output_type": "stream",
          "name": "stdout",
          "text": [
            "YES\n",
            "No\n"
          ]
        }
      ]
    }
  ]
}