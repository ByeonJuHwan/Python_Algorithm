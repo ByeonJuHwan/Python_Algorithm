{
  "nbformat": 4,
  "nbformat_minor": 0,
  "metadata": {
    "colab": {
      "provenance": [],
      "authorship_tag": "ABX9TyO6XfJ1WmXhBU5L/wGyVjnH",
      "include_colab_link": true
    },
    "kernelspec": {
      "name": "python3",
      "display_name": "Python 3"
    },
    "language_info": {
      "name": "python"
    }
  },
  "cells": [
    {
      "cell_type": "markdown",
      "metadata": {
        "id": "view-in-github",
        "colab_type": "text"
      },
      "source": [
        "<a href=\"https://colab.research.google.com/github/ByeonJuHwan/Python_Algorithm/blob/main/Section0/python_basic_%EB%B3%80%EC%88%98.ipynb\" target=\"_parent\"><img src=\"https://colab.research.google.com/assets/colab-badge.svg\" alt=\"Open In Colab\"/></a>"
      ]
    },
    {
      "cell_type": "markdown",
      "source": [
        "# 변수명 정하기\n",
        "\n",
        "* 영문과 숫자, _ 로 이루어진다.\n",
        "* 대소문자를 구분한다.\n",
        "* 문자나, _로 시작한다.\n",
        "* 특수문자를 사용하면 안된다. (&,% 등)\n",
        "* 키워드를 사용하면 안된다. (if, for 등)"
      ],
      "metadata": {
        "id": "LczxfctsIV3V"
      }
    },
    {
      "cell_type": "code",
      "execution_count": 10,
      "metadata": {
        "id": "XHb_iS-xiBjx"
      },
      "outputs": [],
      "source": [
        "a = 1\n",
        "A = 2\n",
        "A1 = 3\n",
        "\n",
        "print(a)\n",
        "print(A)\n",
        "print(a, A, A1)"
      ]
    },
    {
      "cell_type": "code",
      "source": [
        "a,b,c = 3,2,1\n",
        "print(a,b,c)"
      ],
      "metadata": {
        "colab": {
          "base_uri": "https://localhost:8080/"
        },
        "id": "c1rjDRnmKpg7",
        "outputId": "9f2a4879-8d02-4de7-9145-c3460feffd83"
      },
      "execution_count": 11,
      "outputs": [
        {
          "output_type": "stream",
          "name": "stdout",
          "text": [
            "3 2 1\n"
          ]
        }
      ]
    },
    {
      "cell_type": "code",
      "source": [
        "#값 교환\n",
        "a, b = 10, 20\n",
        "print(a,b)\n",
        "\n",
        "a,b = b, a\n",
        "print(a,b)"
      ],
      "metadata": {
        "colab": {
          "base_uri": "https://localhost:8080/"
        },
        "id": "gD4YptqgKvzY",
        "outputId": "5a941c66-2933-41fc-96a9-91a8d6a4e1dc"
      },
      "execution_count": 12,
      "outputs": [
        {
          "output_type": "stream",
          "name": "stdout",
          "text": [
            "10 20\n",
            "20 10\n"
          ]
        }
      ]
    },
    {
      "cell_type": "code",
      "source": [
        "# 변수 타입\n",
        "a=12345\n",
        "print(type(a))\n",
        "\n",
        "a = 12.123123\n",
        "print(type(a))\n",
        "\n",
        "a = 'student'\n",
        "print(type(a))"
      ],
      "metadata": {
        "colab": {
          "base_uri": "https://localhost:8080/"
        },
        "id": "Sm_f8nDjKyNF",
        "outputId": "7dcab834-f37d-42f4-f5d9-38c22aeafa25"
      },
      "execution_count": 16,
      "outputs": [
        {
          "output_type": "stream",
          "name": "stdout",
          "text": [
            "<class 'int'>\n",
            "<class 'float'>\n",
            "<class 'str'>\n"
          ]
        }
      ]
    },
    {
      "cell_type": "code",
      "source": [
        "# 출력방식\n",
        "print(\"number\")\n",
        "a, b, c = 1, 2, 3\n",
        "print(a, b ,c)\n",
        "print(\"number : \", a, b, c)\n",
        "print(a, b, c, sep=', ')\n",
        "print(a, b, c, sep=',')\n",
        "print(a, b, c, sep='\\n')\n",
        "\n",
        "# print() 에는 기본적으로 \\n이 내장되어있다. 따라사 아래 코드는 위 코드와 같은 결과가 나온다.\n",
        "print(a)\n",
        "print(b)\n",
        "print(c)\n",
        "\n",
        "# print() 를 가로로 출력 하고 싶을 때 \\n을 없애는 법\n",
        "print(a, end=' ')\n",
        "print(b, end=' ')\n",
        "print(c, end=' ')"
      ],
      "metadata": {
        "colab": {
          "base_uri": "https://localhost:8080/"
        },
        "id": "OX4qu2LqK6Fe",
        "outputId": "60b8f174-d50a-4d86-d9f1-ff55598918f7"
      },
      "execution_count": 28,
      "outputs": [
        {
          "output_type": "stream",
          "name": "stdout",
          "text": [
            "number\n",
            "1 2 3\n",
            "number :  1 2 3\n",
            "1, 2, 3\n",
            "1,2,3\n",
            "1\n",
            "2\n",
            "3\n",
            "1\n",
            "2\n",
            "3\n",
            "1 2 3 "
          ]
        }
      ]
    }
  ]
}