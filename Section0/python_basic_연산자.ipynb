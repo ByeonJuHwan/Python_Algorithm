{
  "nbformat": 4,
  "nbformat_minor": 0,
  "metadata": {
    "colab": {
      "provenance": [],
      "authorship_tag": "ABX9TyNbnhnOMu6H0Zl8lTGvrP20",
      "include_colab_link": true
    },
    "kernelspec": {
      "name": "python3",
      "display_name": "Python 3"
    },
    "language_info": {
      "name": "python"
    }
  },
  "cells": [
    {
      "cell_type": "markdown",
      "metadata": {
        "id": "view-in-github",
        "colab_type": "text"
      },
      "source": [
        "<a href=\"https://colab.research.google.com/github/ByeonJuHwan/Python_Algorithm/blob/main/Section0/python_basic_%EC%97%B0%EC%82%B0%EC%9E%90.ipynb\" target=\"_parent\"><img src=\"https://colab.research.google.com/assets/colab-badge.svg\" alt=\"Open In Colab\"/></a>"
      ]
    },
    {
      "cell_type": "markdown",
      "source": [
        "# 변수입력과 연산자"
      ],
      "metadata": {
        "id": "GlQhx1LuQD-h"
      }
    },
    {
      "cell_type": "code",
      "source": [
        "a = input(\"숫자를 입력하세요 : \")\n",
        "print(a)"
      ],
      "metadata": {
        "colab": {
          "base_uri": "https://localhost:8080/"
        },
        "id": "ISCyyoImQACg",
        "outputId": "73932f58-261c-431f-def1-e96a833ddb00"
      },
      "execution_count": 4,
      "outputs": [
        {
          "output_type": "stream",
          "name": "stdout",
          "text": [
            "숫자를 입력하세요 : 10\n",
            "10\n"
          ]
        }
      ]
    },
    {
      "cell_type": "code",
      "source": [
        "a, b = input(\"숫자를 입력하세요 : \").split() # split()이 띄어쓰기를 분리해서 넣어준다.\n",
        "print(type(a))\n",
        "c = a + b\n",
        "print(type(c))\n",
        "print(c)\n",
        "print(a + b)"
      ],
      "metadata": {
        "colab": {
          "base_uri": "https://localhost:8080/"
        },
        "id": "_JYxz-siQcwi",
        "outputId": "8df5c6b6-3c2c-4698-cee9-44702fa8488b"
      },
      "execution_count": 9,
      "outputs": [
        {
          "output_type": "stream",
          "name": "stdout",
          "text": [
            "숫자를 입력하세요 : 2 3\n",
            "<class 'str'>\n",
            "<class 'str'>\n",
            "23\n",
            "23\n"
          ]
        }
      ]
    },
    {
      "cell_type": "code",
      "source": [
        "# 숫자로 바꾸려면 int로 바꿔야함\n",
        "a = int(a)\n",
        "print(type(a))\n",
        "\n",
        "b = int(b)\n",
        "print(type(b))\n",
        "\n",
        "print(a+b)"
      ],
      "metadata": {
        "colab": {
          "base_uri": "https://localhost:8080/"
        },
        "id": "R_GWOkefRL5n",
        "outputId": "5a01777d-c4d4-4755-98ca-4bd9106d7670"
      },
      "execution_count": 11,
      "outputs": [
        {
          "output_type": "stream",
          "name": "stdout",
          "text": [
            "<class 'int'>\n",
            "<class 'int'>\n",
            "5\n"
          ]
        }
      ]
    },
    {
      "cell_type": "code",
      "source": [
        "# map 을 사용해서 바로 int타입으로 바꾸는 방법\n",
        "a,b = map(int, input(\"숫자를 입력하세요 : \").split())\n",
        "print (a + b)\n",
        "print (a - b)\n",
        "print (a * b)\n",
        "print (a / b)\n",
        "print (a // b)\n",
        "print (a % b)\n",
        "print (a ** b)"
      ],
      "metadata": {
        "colab": {
          "base_uri": "https://localhost:8080/"
        },
        "id": "rER1UYqLRfd1",
        "outputId": "15c11184-0606-4f48-b010-493ab9e38ae8"
      },
      "execution_count": 15,
      "outputs": [
        {
          "output_type": "stream",
          "name": "stdout",
          "text": [
            "숫자를 입력하세요 : 2 3\n",
            "5\n",
            "-1\n",
            "6\n",
            "0.6666666666666666\n",
            "0\n",
            "2\n",
            "8\n"
          ]
        }
      ]
    },
    {
      "cell_type": "code",
      "source": [
        "a = 4.3\n",
        "b = 5\n",
        "c = a + b\n",
        "print(type(c))\n",
        "\n",
        "# 실수 > 정수 로 실수의 범위가 더 넓으므로 연산결과는 더 넓은 쪽으로 결과가 나온다."
      ],
      "metadata": {
        "colab": {
          "base_uri": "https://localhost:8080/"
        },
        "id": "Hjr6xaZZSyhT",
        "outputId": "54f32e1d-b6b4-44ff-e8e8-77b742f7fcb1"
      },
      "execution_count": 16,
      "outputs": [
        {
          "output_type": "stream",
          "name": "stdout",
          "text": [
            "<class 'float'>\n"
          ]
        }
      ]
    }
  ]
}