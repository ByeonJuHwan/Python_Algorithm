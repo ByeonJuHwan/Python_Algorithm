{
  "nbformat": 4,
  "nbformat_minor": 0,
  "metadata": {
    "colab": {
      "provenance": [],
      "authorship_tag": "ABX9TyMskIqkjZaJkFdUGo9NdV9b",
      "include_colab_link": true
    },
    "kernelspec": {
      "name": "python3",
      "display_name": "Python 3"
    },
    "language_info": {
      "name": "python"
    }
  },
  "cells": [
    {
      "cell_type": "markdown",
      "metadata": {
        "id": "view-in-github",
        "colab_type": "text"
      },
      "source": [
        "<a href=\"https://colab.research.google.com/github/ByeonJuHwan/Python_Algorithm/blob/main/Section0/python_basic_%ED%95%A8%EC%88%98%EB%A7%8C%EB%93%A4%EA%B8%B0.ipynb\" target=\"_parent\"><img src=\"https://colab.research.google.com/assets/colab-badge.svg\" alt=\"Open In Colab\"/></a>"
      ]
    },
    {
      "cell_type": "markdown",
      "source": [
        "# 함수 만들기"
      ],
      "metadata": {
        "id": "NPKOqui6PD79"
      }
    },
    {
      "cell_type": "code",
      "execution_count": 3,
      "metadata": {
        "id": "DrRJDBvMO-Iq"
      },
      "outputs": [],
      "source": [
        "def add(a,b):\n",
        "    print(a+b)"
      ]
    },
    {
      "cell_type": "code",
      "source": [
        "add(3,2)\n",
        "add(5,7)"
      ],
      "metadata": {
        "colab": {
          "base_uri": "https://localhost:8080/"
        },
        "id": "jTAwbrMMQCUz",
        "outputId": "5a1aaa72-032d-4163-80f6-60f8a135f415"
      },
      "execution_count": 5,
      "outputs": [
        {
          "output_type": "stream",
          "name": "stdout",
          "text": [
            "5\n",
            "12\n"
          ]
        }
      ]
    },
    {
      "cell_type": "code",
      "source": [
        "def add(a,b):\n",
        "    c = a+b\n",
        "    return c"
      ],
      "metadata": {
        "id": "dPN1FgSjQSeP"
      },
      "execution_count": 7,
      "outputs": []
    },
    {
      "cell_type": "code",
      "source": [
        "print(add(3,2))"
      ],
      "metadata": {
        "colab": {
          "base_uri": "https://localhost:8080/"
        },
        "id": "jzmbeLP1Qmiz",
        "outputId": "316e3ca0-58d7-4e83-8570-6484e9dc4189"
      },
      "execution_count": 10,
      "outputs": [
        {
          "output_type": "stream",
          "name": "stdout",
          "text": [
            "5\n"
          ]
        }
      ]
    },
    {
      "cell_type": "code",
      "source": [
        "# 2개 이상의 값을 리턴할때는 튜플 값으로 리턴된다.\n",
        "def add(a,b):\n",
        "    c=a+b\n",
        "    d=a-b\n",
        "    return c, d"
      ],
      "metadata": {
        "id": "5vsiirxvQ5U8"
      },
      "execution_count": 11,
      "outputs": []
    },
    {
      "cell_type": "code",
      "source": [
        "print(add(3,2))"
      ],
      "metadata": {
        "colab": {
          "base_uri": "https://localhost:8080/"
        },
        "id": "wT6Ly_lkRClH",
        "outputId": "11b39703-19c0-4d1f-a527-b47f7d4dd2ee"
      },
      "execution_count": 13,
      "outputs": [
        {
          "output_type": "stream",
          "name": "stdout",
          "text": [
            "(5, 1)\n"
          ]
        }
      ]
    },
    {
      "cell_type": "code",
      "source": [
        "def isPrime(x):\n",
        "    for i in range(2,x):\n",
        "        if x%i==0:\n",
        "            return False\n",
        "    return True\n",
        "\n",
        "def isPrime2(x):\n",
        "    if any(x%i==0 for i in range(2,x)):\n",
        "        return False\n",
        "    else:\n",
        "        return True\n",
        "\n",
        "a=[12,13,7,9,19]\n",
        "\n",
        "for x in a:\n",
        "    if isPrime(x):\n",
        "        print(x, end=' ')\n",
        "\n",
        "print()\n",
        "\n",
        "for x in a:\n",
        "    if isPrime2(x):\n",
        "        print(x, end=' ')"
      ],
      "metadata": {
        "colab": {
          "base_uri": "https://localhost:8080/"
        },
        "id": "tw7rlkTWRUHW",
        "outputId": "9c71a628-9bc6-476d-e262-8b052d30abbf"
      },
      "execution_count": 17,
      "outputs": [
        {
          "output_type": "stream",
          "name": "stdout",
          "text": [
            "13 7 19 \n",
            "13 7 19 "
          ]
        }
      ]
    }
  ]
}