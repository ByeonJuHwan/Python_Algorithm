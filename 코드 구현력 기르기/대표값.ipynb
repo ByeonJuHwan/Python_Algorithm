{
  "nbformat": 4,
  "nbformat_minor": 0,
  "metadata": {
    "colab": {
      "provenance": [],
      "authorship_tag": "ABX9TyOgmmdfxklvZCgos6vRA4lU",
      "include_colab_link": true
    },
    "kernelspec": {
      "name": "python3",
      "display_name": "Python 3"
    },
    "language_info": {
      "name": "python"
    }
  },
  "cells": [
    {
      "cell_type": "markdown",
      "metadata": {
        "id": "view-in-github",
        "colab_type": "text"
      },
      "source": [
        "<a href=\"https://colab.research.google.com/github/ByeonJuHwan/Python_Algorithm/blob/main/%EC%BD%94%EB%93%9C%20%EA%B5%AC%ED%98%84%EB%A0%A5%20%EA%B8%B0%EB%A5%B4%EA%B8%B0/%EB%8C%80%ED%91%9C%EA%B0%92.ipynb\" target=\"_parent\"><img src=\"https://colab.research.google.com/assets/colab-badge.svg\" alt=\"Open In Colab\"/></a>"
      ]
    },
    {
      "cell_type": "markdown",
      "source": [
        "# 대표값\n",
        "\n",
        "N명의 학생의 수학점수가 주어집니다. N명의 학생들의 평균(소수 첫째자리 반올림)을 구하고, N명의 학생 중 평균에 가장 가까운 학생은 몇 번째 학생인지 출력하는 프로그램을 작성하세요.\n",
        "\n",
        "평균과 가장 가까운 점수가 여러 개일 경우 먼저 점수가 높은 학생의 번호를 답으로 하고, 높 은 점수를 가진 학생이 여러 명일 경우 그 중 학생번호가 빠른 학생의 번호를 답으로 합니다.\n",
        "\n",
        "▣ 입력설명\n",
        "\n",
        "첫줄에 자연수 N(5<=N<=100)이 주어지고, 두 번째 줄에는 각 학생의 수학점수인 N개의 자연 수가 주어집니다. \n",
        "\n",
        "학생의 번호는 앞에서부터 1로 시작해서 N까지이다.\n",
        "\n",
        "▣ 출력설명\n",
        "\n",
        "첫줄에 평균과 평균에 가장 가까운 학생의 번호를 출력한다.\n",
        "\n",
        "평균은 소수 첫째 자리에서 반올림합니다.\n",
        "\n",
        "▣ 입력예제 1\n",
        "\n",
        "10\n",
        "\n",
        "45 73 66 87 92 67 75 79 75 80\n",
        "\n",
        "▣ 출력예제 1\n",
        "\n",
        "74 7\n",
        "\n",
        "`round()함수는 값을 반올림해준다(소수점 첫째자리에서)`\n",
        "\n",
        "`sum() 함수는 파리미터로 들어온 값의 합을 구해준다.`\n",
        "\n",
        "`abs() 함수는 절대값 으로 표현해주는 함수이다`"
      ],
      "metadata": {
        "id": "LsQ-b7OYp1JO"
      }
    },
    {
      "cell_type": "code",
      "source": [
        "# 내 풀이\n",
        "\n",
        "# N명의 학생수 받기\n",
        "N = int(input())\n",
        "# N개의 점수 list에 저장\n",
        "arr = list(map(int,input().split()))\n",
        "# 점수 평균 계산\n",
        "avg = 0\n",
        "sum = 0\n",
        "for i in range(len(arr)):\n",
        "    sum+=arr[i]\n",
        "avg = round(sum/len(arr))\n",
        "# 평균와의 오차를 새로운 list에 저장(음수일 경우 양수로 바꿔서 저장)\n",
        "result = list()\n",
        "for i in range(len(arr)):\n",
        "    a = avg-arr[i]\n",
        "    if(a<0):\n",
        "        a = -a\n",
        "    result.append(a)\n",
        "# 가장 오차가 작은 점수와 학생 번호를 출력\n",
        "arrMin = result[0]\n",
        "for i in range(1,len(result)):\n",
        "    if result[i]<arrMin:\n",
        "        arrMin = result[i]\n",
        "index = 0\n",
        "answer = 0\n",
        "# 같은 값이 나와도 부등호가 < 이므로 좀더 작은 인덱스의 값이 저장됨.\n",
        "for i in range(len(result)):\n",
        "    if arrMin == result[i]:\n",
        "        if answer<arr[i]:\n",
        "            answer = arr[i]\n",
        "            index = i\n",
        "        \n",
        "print(avg, index+1)"
      ],
      "metadata": {
        "colab": {
          "base_uri": "https://localhost:8080/"
        },
        "id": "Tpi6cdhLp0bH",
        "outputId": "3d75bb85-e8c6-4d2e-80e0-9b6cd6387e02"
      },
      "execution_count": 2,
      "outputs": [
        {
          "output_type": "stream",
          "name": "stdout",
          "text": [
            "10\n",
            "45 73 66 87 92 67 75 79 75 80\n",
            "74 7\n"
          ]
        }
      ]
    },
    {
      "cell_type": "code",
      "execution_count": 1,
      "metadata": {
        "colab": {
          "base_uri": "https://localhost:8080/"
        },
        "id": "KuNRYNo_pp3k",
        "outputId": "b4014a6e-f582-43a7-d75f-48efcf495636"
      },
      "outputs": [
        {
          "output_type": "stream",
          "name": "stdout",
          "text": [
            "10\n",
            "45 73 66 87 92 67 75 79 75 80\n",
            "74 7\n"
          ]
        }
      ],
      "source": [
        "# 강의 풀이\n",
        "\n",
        "n = int(input())\n",
        "a = list(map(int,input().split()))\n",
        "# 평균 round 함수는 소수 첫째 자리에서 반올림해준다.\n",
        "# sum()은 리스트안의 모든 값을 더해준다.\n",
        "ave = round(sum(a)/n)\n",
        "\n",
        "# enumerate란 리스트의 인덱스와 그 값을 대응해서 넣어준다. 여기서는 idx에 인덱스 값이 x에 학생의 성적이 들어간다.\n",
        "# Section0의 리스트와 내장함수 2 참고\n",
        "min = float('inf')\n",
        "min = 2147000000  # 정수형에서 가장 큰 값\n",
        "for idx, x in enumerate(a):\n",
        "    tmp = abs(x-ave)\n",
        "    if tmp<min:\n",
        "        min = tmp\n",
        "        score = x\n",
        "        res = idx + 1\n",
        "    elif tmp==min:\n",
        "        if x>score:\n",
        "            score = x\n",
        "            res = idx + 1\n",
        "print(ave, res)"
      ]
    }
  ]
}