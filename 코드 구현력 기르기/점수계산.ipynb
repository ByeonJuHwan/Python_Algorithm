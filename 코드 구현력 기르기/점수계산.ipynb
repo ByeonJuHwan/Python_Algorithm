{
  "nbformat": 4,
  "nbformat_minor": 0,
  "metadata": {
    "colab": {
      "provenance": [],
      "authorship_tag": "ABX9TyPhxS/h5BPp/ni+jtm+gj1z",
      "include_colab_link": true
    },
    "kernelspec": {
      "name": "python3",
      "display_name": "Python 3"
    },
    "language_info": {
      "name": "python"
    }
  },
  "cells": [
    {
      "cell_type": "markdown",
      "metadata": {
        "id": "view-in-github",
        "colab_type": "text"
      },
      "source": [
        "<a href=\"https://colab.research.google.com/github/ByeonJuHwan/Python_Algorithm/blob/main/%EC%BD%94%EB%93%9C%20%EA%B5%AC%ED%98%84%EB%A0%A5%20%EA%B8%B0%EB%A5%B4%EA%B8%B0/%EC%A0%90%EC%88%98%EA%B3%84%EC%82%B0.ipynb\" target=\"_parent\"><img src=\"https://colab.research.google.com/assets/colab-badge.svg\" alt=\"Open In Colab\"/></a>"
      ]
    },
    {
      "cell_type": "markdown",
      "source": [
        "# 점수계산\n",
        "\n",
        "OX 문제는 맞거나 틀린 두 경우의 답을 가지는 문제를 말한다.\n",
        "\n",
        "여러 개의 OX 문제로 만들어진 \n",
        "시험에서 연속적으로 답을 맞히는 경우에는 가산점을 주기 위해서 다음과 같이 점수 계산을 하기\n",
        "로 하였다.\n",
        "\n",
        "1번 문제가 맞는 경우에는 1점으로 계산한다.\n",
        "\n",
        " 앞의 문제에 대해서는 답을 틀리다가 \n",
        "답이 맞는 처음 문제는 1점으로 계산한다.\n",
        "\n",
        " 또한, 연속으로 문제의 답이 맞는 경우에서 두 번째 \n",
        "문제는 2점, 세 번째 문제는 3점, ..., K번째 문제는 K점으로 계산한다.\n",
        "\n",
        "틀린 문제는 0점으로 계산한다.\n",
        "\n",
        "\n",
        "예를 들어, 아래와 같이 10 개의 OX 문제에서 답이 맞은 문제의 경우에는 1로 표시하고, 틀린 경\n",
        "우에는 0으로 표시하였을 때, 점수 계산은 아래 표와 같이 계산되어, 총 점수는 \n",
        "1+1+2+3+1+2=10 점이다.\n",
        "\n",
        "\n",
        "1 0 1 1 1 0 0 1 1 0\n",
        "\n",
        "\n",
        "채점 1 0 1 1 1 0 0 1 1 0\n",
        "\n",
        "점수 1 0 1 2 3 0 0 1 2 0\n",
        "\n",
        "시험문제의 채점 결과가 주어졌을 때, 총 점수를 계산하는 프로그램을 작성하시오. \n",
        "\n",
        "▣ 입력설명\n",
        "\n",
        "첫째 줄에 문제의 개수 N (1 ≤ N ≤ 100)이 주어진다.\n",
        "\n",
        "둘째 줄에는 N개 문제의 채점 결과를 나타내는 0 혹은 1이 빈 칸을 사이에 두고 주어진다. \n",
        "\n",
        "0은 문제의 답이 틀린 경우이고, 1은 문제의 \n",
        "답이 맞는 경우이다. \n",
        "\n",
        "▣ 출력설명\n",
        "\n",
        "첫째 줄에 입력에서 주어진 채점 결과에 대하여 가산점을 고려한 총 점수를 출력한다. \n",
        "\n",
        "▣ 입력예제 1 \n",
        "\n",
        "10\n",
        "\n",
        "1 0 1 1 1 0 0 1 1 0\n",
        "\n",
        "▣ 출력예제 1\n",
        "\n",
        "10"
      ],
      "metadata": {
        "id": "d8S1HStKynpE"
      }
    },
    {
      "cell_type": "code",
      "execution_count": 3,
      "metadata": {
        "id": "XJjNpc4jylon",
        "colab": {
          "base_uri": "https://localhost:8080/"
        },
        "outputId": "6087a159-bb5e-4e5a-c664-391c83c81444"
      },
      "outputs": [
        {
          "output_type": "stream",
          "name": "stdout",
          "text": [
            "10\n",
            "1 0 1 1 1 0 0 1 1 0\n",
            "10\n"
          ]
        }
      ],
      "source": [
        "# 내풀이 \n",
        "n = int(input())\n",
        "arr = list(map(int,input().split()))\n",
        "result = 0\n",
        "score=0\n",
        "for x in arr:\n",
        "    if x ==1 :\n",
        "        score += 1\n",
        "        result += score \n",
        "    else:\n",
        "        score = 0\n",
        "\n",
        "print(result)"
      ]
    },
    {
      "cell_type": "code",
      "source": [
        "# 강의 풀이\n",
        "\n",
        "n = int(input())\n",
        "a = list(map(int,input().split()))\n",
        "\n",
        "sum = 0\n",
        "cnt = 0\n",
        "\n",
        "for x in a:\n",
        "    if x == 1:\n",
        "        cnt += 1\n",
        "        sum += cnt\n",
        "    else:\n",
        "        cnt = 0\n",
        "sum"
      ],
      "metadata": {
        "colab": {
          "base_uri": "https://localhost:8080/"
        },
        "id": "20q3zPZHuNGF",
        "outputId": "2d2bb5a6-dc84-41c5-ffae-b5ba5bbbb7e5"
      },
      "execution_count": 4,
      "outputs": [
        {
          "name": "stdout",
          "output_type": "stream",
          "text": [
            "10\n",
            "1 0 1 1 1 0 0 1 1 0\n"
          ]
        },
        {
          "output_type": "execute_result",
          "data": {
            "text/plain": [
              "10"
            ]
          },
          "metadata": {},
          "execution_count": 4
        }
      ]
    }
  ]
}