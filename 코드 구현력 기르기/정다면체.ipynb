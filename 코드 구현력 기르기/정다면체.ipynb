{
  "nbformat": 4,
  "nbformat_minor": 0,
  "metadata": {
    "colab": {
      "provenance": [],
      "authorship_tag": "ABX9TyM/oQmKwqU5+cCJPs8r9egJ",
      "include_colab_link": true
    },
    "kernelspec": {
      "name": "python3",
      "display_name": "Python 3"
    },
    "language_info": {
      "name": "python"
    }
  },
  "cells": [
    {
      "cell_type": "markdown",
      "metadata": {
        "id": "view-in-github",
        "colab_type": "text"
      },
      "source": [
        "<a href=\"https://colab.research.google.com/github/ByeonJuHwan/Python_Algorithm/blob/main/%EC%BD%94%EB%93%9C%20%EA%B5%AC%ED%98%84%EB%A0%A5%20%EA%B8%B0%EB%A5%B4%EA%B8%B0/%EC%A0%95%EB%8B%A4%EB%A9%B4%EC%B2%B4.ipynb\" target=\"_parent\"><img src=\"https://colab.research.google.com/assets/colab-badge.svg\" alt=\"Open In Colab\"/></a>"
      ]
    },
    {
      "cell_type": "markdown",
      "source": [
        "# 정다면체\n",
        "두 개의 정 N면체와 정 M면체의 두 개의 주사위를 던져서 나올 수 있는 눈의 합 중 가장 확률이 높은 숫자를 출력하는 프로그램을 작성하세요.\n",
        "\n",
        "정답이 여러 개일 경우 오름차순으로 출력합니다.\n",
        "\n",
        "▣ 입력설명\n",
        "\n",
        "첫 번째 줄에는 자연수 N과 M이 주어집니다. N과 M은 4, 6, 8, 12, 20 중의 하나입니다.\n",
        "\n",
        "▣ 출력설명\n",
        "\n",
        "첫 번째 줄에 답을 출력합니다.\n",
        "\n",
        "▣ 입력예제 1 \n",
        "\n",
        "4 6\n",
        "\n",
        "▣ 출력예제 1\n",
        "\n",
        "5 6 7\n"
      ],
      "metadata": {
        "id": "JM7cK936tQmb"
      }
    },
    {
      "cell_type": "code",
      "execution_count": 1,
      "metadata": {
        "colab": {
          "base_uri": "https://localhost:8080/"
        },
        "id": "GKFqMBdltP5v",
        "outputId": "92e838e4-9e2b-43ed-b183-5d12217368e4"
      },
      "outputs": [
        {
          "output_type": "stream",
          "name": "stdout",
          "text": [
            "4 6\n",
            "5 6 7\n"
          ]
        }
      ],
      "source": [
        "# 내풀이 n**2 풀이 법이 뭔가 맘에안든다. 더 좋은 방법이 있나 모르겠다..\n",
        "\n",
        "# N, M 을 받는다.\n",
        "N ,M = map(int, input().split())\n",
        "# N 과 M의 인자를 리스트에 저장한다.\n",
        "n = [i for i in range(1,N+1)]\n",
        "m = [i for i in range(1,M+1)]\n",
        "\n",
        "# 두 리스트의 합을 구한다 for문으로.\n",
        "adds = []\n",
        "for i in range(1,len(n)+1):\n",
        "    for j in range(1,len(m)+1):\n",
        "        adds.append(i+j)\n",
        "\n",
        "# count() 함수로 가장 작은수부터 가장 큰수 까지 돌면서 개수를 세는데 \n",
        "# 큰값이 나오면 리스트 초기화 후 저장\n",
        "m=1\n",
        "result = []\n",
        "for i in range(2,adds[-1]):\n",
        "    if m<adds.count(i):\n",
        "        result.clear()\n",
        "        result.append(i)\n",
        "        m=adds.count(i)\n",
        "    elif m==adds.count(i):\n",
        "        result.append(i)\n",
        "\n",
        "print(*result)"
      ]
    },
    {
      "cell_type": "code",
      "source": [
        "# 강의 풀이\n",
        "# 애초에 모든 값이 0 으로 초기화 되어있는 배열을 하나 만든뒤 더한 값이 만약 \n",
        "# 2일경우 인덱스 2번에 있는 0의 값을 1증가시키면서 카운트를 한다.\n",
        "# N, M 을 받는다.\n",
        "n ,m = map(int, input().split())\n",
        "\n",
        "# 모든 값이 0으로 초기화 되어있는 배열을 넉넉하게 만든다(+3)\n",
        "cnt = [0] * (N+M+3)\n",
        "max=0\n",
        "for i in range(1, n+1):\n",
        "    for j in range(1,m+1):\n",
        "        cnt[i+j]+=1 # i+j의 값이 눈금의 합이다.\n",
        "for i in range(n+m+1): \n",
        "    if cnt [i]>max:\n",
        "        max=cnt[i]\n",
        "for i in range(n+m+1):\n",
        "    if cnt[i]==max:\n",
        "        print(i,end=' ') "
      ],
      "metadata": {
        "colab": {
          "base_uri": "https://localhost:8080/"
        },
        "id": "4evcbSr7Wprb",
        "outputId": "4a24b53f-003f-4592-f678-285d5ae1f3bb"
      },
      "execution_count": 2,
      "outputs": [
        {
          "output_type": "stream",
          "name": "stdout",
          "text": [
            "4 6\n",
            "5 6 7 "
          ]
        }
      ]
    }
  ]
}