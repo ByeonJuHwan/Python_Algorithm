{
  "nbformat": 4,
  "nbformat_minor": 0,
  "metadata": {
    "colab": {
      "provenance": [],
      "authorship_tag": "ABX9TyMZxWBaX10fdA885mIx+96F",
      "include_colab_link": true
    },
    "kernelspec": {
      "name": "python3",
      "display_name": "Python 3"
    },
    "language_info": {
      "name": "python"
    }
  },
  "cells": [
    {
      "cell_type": "markdown",
      "metadata": {
        "id": "view-in-github",
        "colab_type": "text"
      },
      "source": [
        "<a href=\"https://colab.research.google.com/github/ByeonJuHwan/Python_Algorithm/blob/main/%EC%BD%94%EB%93%9C%20%EA%B5%AC%ED%98%84%EB%A0%A5%20%EA%B8%B0%EB%A5%B4%EA%B8%B0/%EC%A3%BC%EC%82%AC%EC%9C%84_%EA%B2%8C%EC%9E%84.ipynb\" target=\"_parent\"><img src=\"https://colab.research.google.com/assets/colab-badge.svg\" alt=\"Open In Colab\"/></a>"
      ]
    },
    {
      "cell_type": "markdown",
      "source": [
        "# 주사위 게임\n",
        "\n",
        "1에서부터 6까지의 눈을 가진 3개의 주사위를 던져서 다음과 같은 규칙에 따라 상금을 받는 게\n",
        "임이 있다.\n",
        "\n",
        "규칙(1) 같은 눈이 3개가 나오면 10,000원+(같은 눈)*1,000원의 상금을 받게 된다. \n",
        "\n",
        "규칙(2) 같은 눈이 2개만 나오는 경우에는 1,000원+(같은 눈)*100원의 상금을 받게 된다. \n",
        "\n",
        "규칙(3) 모두 다른 눈이 나오는 경우에는 (그 중 가장 큰 눈)*100원의 상금을 받게 된다. \n",
        "\n",
        "예를 들어, 3개의 눈 3, 3, 6이 주어지면 상금은 `1,000+3*100`으로 계산되어 1,300원을 받게 된\n",
        "다.\n",
        " 또 3개의 눈이 2, 2, 2로 주어지면 `10,000+2*1,000` 으로 계산되어 12,000원을 받게 된다. \n",
        "\n",
        "3개의 눈이 6, 2, 5로 주어지면 그 중 가장 큰 값이 6이므로 6*100으로 계산되어 \n",
        "600원을 상금\n",
        "으로 받게 된다.\n",
        "\n",
        "N 명이 주사위 게임에 참여하였을 때, 가장 많은 상금을 받은 사람의 상금을 출력하는 프로그램\n",
        "을 작성하시오\n",
        "\n",
        "▣ 입력설명\n",
        "\n",
        "첫째 줄에는 참여하는 사람 수 N(2<=N<=1,000)이 주어지고 그 다음 줄부터 N개의 줄에 사람\n",
        "들이 주사위를 던진 3개의 눈이 빈칸을 사이에 두고 각각 주어진다. \n",
        "\n",
        "▣ 출력설명\n",
        "\n",
        "첫째 줄에 가장 많은 상금을 받은 사람의 상금을 출력한다.\n",
        "\n",
        "▣ 입력예제 1 \n",
        "\n",
        "3\n",
        "\n",
        "3 3 6\n",
        "\n",
        "2 2 2\n",
        "\n",
        "6 2 5\n",
        "\n",
        "▣ 출력예제 1\n",
        "\n",
        "12000\n"
      ],
      "metadata": {
        "id": "GIqKm_GBOryi"
      }
    },
    {
      "cell_type": "code",
      "execution_count": 9,
      "metadata": {
        "id": "74ah6McnOnHN",
        "colab": {
          "base_uri": "https://localhost:8080/"
        },
        "outputId": "b1cd6221-7f18-4eae-951d-86a1617ca13e"
      },
      "outputs": [
        {
          "output_type": "stream",
          "name": "stdout",
          "text": [
            "3\n",
            "3 3 6\n",
            "2 2 2\n",
            "6 2 5\n",
            "12000\n"
          ]
        }
      ],
      "source": [
        "# 내풀이 주사위를 3번만 던져서 간단하게 경우의수로 구했지만 정확한 식을 알고싶다\n",
        "\n",
        "# 바로바로 눈금을 계산해서 값을 계산 그 값을 새로운 배열에 담음\n",
        "result = []\n",
        "n = int(input())\n",
        "for _ in range(n):\n",
        "    arr = list(map(int,input().split()))\n",
        "    arr.sort()\n",
        "    if all (arr[0]==x for x in arr):\n",
        "        result.append(10000+(arr[0]*1000))\n",
        "    elif arr[0]!=arr[1] and arr[0] != arr[2] and arr[1] != arr[2]:\n",
        "        result.append(arr[-1]*100)\n",
        "    else:\n",
        "        result.append(1000+(arr[-1]*100))\n",
        "\n",
        "# 정렬을 통해서 가장 큰 금액 출력\n",
        "result.sort()\n",
        "print(result[-1])"
      ]
    },
    {
      "cell_type": "code",
      "source": [
        "# 강의 풀이\n",
        "\n",
        "n = int(input())\n",
        "res = 0 # 최댓값을 찾기위해\n",
        "for _ in range(n):\n",
        "    tmp = input().split()\n",
        "    tmp.sort() # 큰숫자를 찾아야하므로 그냥 정렬\n",
        "    a,b,c = map(int,tmp) \n",
        "    if a==b and b==c: # if else를 쓸때는 가장 좋은거순서대로 쓴다.\n",
        "        money = 10000 + a*1000\n",
        "    elif a==b or a==c: # 여기서는 b==c를 따로 뺀다 왜냐하면 금액 계산때 가장 큰 값을 잡기가 힘들기때문.\n",
        "        money = 1000+(a*100)\n",
        "    elif b==c:\n",
        "        money = 1000+(b*100)\n",
        "    else:\n",
        "        money = c*100\n",
        "    if money>res:\n",
        "        res = money\n",
        "\n",
        "print(res)"
      ],
      "metadata": {
        "colab": {
          "base_uri": "https://localhost:8080/"
        },
        "id": "FVnXOAfIwnfU",
        "outputId": "d71b8ce7-8b0a-4ce3-90f9-b95587a1dd78"
      },
      "execution_count": 12,
      "outputs": [
        {
          "output_type": "stream",
          "name": "stdout",
          "text": [
            "3\n",
            "3 3 6\n",
            "2 2 2\n",
            "6 2 5\n",
            "12000\n"
          ]
        }
      ]
    }
  ]
}