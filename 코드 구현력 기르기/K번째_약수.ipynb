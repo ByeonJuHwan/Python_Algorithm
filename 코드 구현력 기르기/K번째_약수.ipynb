{
  "nbformat": 4,
  "nbformat_minor": 0,
  "metadata": {
    "colab": {
      "provenance": [],
      "authorship_tag": "ABX9TyMjh3AJ1pXEXieIOFMx87/P",
      "include_colab_link": true
    },
    "kernelspec": {
      "name": "python3",
      "display_name": "Python 3"
    },
    "language_info": {
      "name": "python"
    }
  },
  "cells": [
    {
      "cell_type": "markdown",
      "metadata": {
        "id": "view-in-github",
        "colab_type": "text"
      },
      "source": [
        "<a href=\"https://colab.research.google.com/github/ByeonJuHwan/Python_Algorithm/blob/main/%EC%BD%94%EB%93%9C%20%EA%B5%AC%ED%98%84%EB%A0%A5%20%EA%B8%B0%EB%A5%B4%EA%B8%B0/K%EB%B2%88%EC%A7%B8_%EC%95%BD%EC%88%98.ipynb\" target=\"_parent\"><img src=\"https://colab.research.google.com/assets/colab-badge.svg\" alt=\"Open In Colab\"/></a>"
      ]
    },
    {
      "cell_type": "markdown",
      "source": [
        "# K번째 약수\n",
        "\n",
        "어떤 자연수 p와 q가 있을 때, 만일 p를 q로 나누었을 때 나머지가 0이면 q는 p의 약수이다.\n",
        "\n",
        "6을 예로들면\n",
        "\n",
        "6의 약수는 1,2,3,6 총 네 개이다.\n",
        "\n",
        "두 개의 자연수 N과 K가 주어졌을 때, N의 약수들 중 K번째로 작은 수를 출력하는 프로그램을 작성하시오.\n",
        "\n",
        "* 입력 설명\n",
        "    * 첫째 줄에 N과 K가 빈칸을 사이에 두고 주어진다. N은 1 이상 10,000 이하이다. K는 1이상 N 이하이다.\n",
        "* 출력설명\n",
        "    * 첫째 줄에 N의 약수들 중 K번째로 작은 수를 출력한다. 만일 N의 약수의 개수가 K개 보다 적어서 K번재 약수가 존재하지 않을 경우에는 -1을 출력하시오.\n",
        "\n",
        "* 입력예제1\n",
        "    * 6,3\n",
        "* 출력예제1\n",
        "    * 3\n"
      ],
      "metadata": {
        "id": "5e6VfA0igYK8"
      }
    },
    {
      "cell_type": "code",
      "execution_count": 13,
      "metadata": {
        "id": "5SY6uuY9WN2p",
        "colab": {
          "base_uri": "https://localhost:8080/"
        },
        "outputId": "dca2916f-c656-43e4-d95f-c24633c28c62"
      },
      "outputs": [
        {
          "output_type": "stream",
          "name": "stdout",
          "text": [
            "6 3\n",
            "3\n"
          ]
        }
      ],
      "source": [
        "# 내풀이\n",
        "\n",
        "# N, K 를 입력받음\n",
        "n, k = map(int, input().split())\n",
        "# N의 약수 오름차순으로 list 저장\n",
        "result=list()\n",
        "for i in range(1,n+1):\n",
        "    if n%i==0:\n",
        "        result.append(i)\n",
        "# 다음 list의 K번째 인덱스에 있는 값을 출력 만약 여기서 K>N 일경우 -1 출력\n",
        "if len(result)<k:\n",
        "    print(-1)\n",
        "else:\n",
        "    print(result.pop(k-1))"
      ]
    },
    {
      "cell_type": "code",
      "source": [
        "# 강의 풀이\n",
        "\n",
        "n, k = map(int, input().split())\n",
        "cnt= 0 # 약수의 개수\n",
        "for i in range(1, n+1):\n",
        "    if n%i==0:\n",
        "        cnt+=1\n",
        "    if cnt==k: # 약수의 개수가 k번째가 되는순간 반복문 종료\n",
        "        print(i)\n",
        "        break\n",
        "else: # for else 구문사용 break를 만나면 출력X\n",
        "    print(-1) # k번째 약수를 찾아 못햇을경우 -1 출력"
      ],
      "metadata": {
        "id": "d9b2LqVClOWr"
      },
      "execution_count": null,
      "outputs": []
    }
  ]
}