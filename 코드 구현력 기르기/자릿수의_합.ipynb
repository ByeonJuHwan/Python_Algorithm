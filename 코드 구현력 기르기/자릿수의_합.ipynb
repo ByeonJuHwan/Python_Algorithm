{
  "nbformat": 4,
  "nbformat_minor": 0,
  "metadata": {
    "colab": {
      "provenance": [],
      "authorship_tag": "ABX9TyMpMRo/orpycDA5iOBNV2P2",
      "include_colab_link": true
    },
    "kernelspec": {
      "name": "python3",
      "display_name": "Python 3"
    },
    "language_info": {
      "name": "python"
    }
  },
  "cells": [
    {
      "cell_type": "markdown",
      "metadata": {
        "id": "view-in-github",
        "colab_type": "text"
      },
      "source": [
        "<a href=\"https://colab.research.google.com/github/ByeonJuHwan/Python_Algorithm/blob/main/%EC%BD%94%EB%93%9C%20%EA%B5%AC%ED%98%84%EB%A0%A5%20%EA%B8%B0%EB%A5%B4%EA%B8%B0/%EC%9E%90%EB%A6%BF%EC%88%98%EC%9D%98_%ED%95%A9.ipynb\" target=\"_parent\"><img src=\"https://colab.research.google.com/assets/colab-badge.svg\" alt=\"Open In Colab\"/></a>"
      ]
    },
    {
      "cell_type": "markdown",
      "source": [
        "# 자릿수의 합\n",
        "\n",
        "N개의 자연수가 입력되면 각 자연수의 자릿수의 합을 구하고, 그 합이 최대인 자연수를 출력하는 프로그램을 작성하세요.\n",
        "\n",
        "각 자연수의 자릿수의 합을 구하는 함수를 def digit_sum(x)를 꼭 작성해서 프로그래밍 하세요.\n",
        "\n",
        "▣ 입력설명\n",
        "\n",
        "첫 줄에 자연수의 개수 N(3<=N<=100)이 주어지고, 그 다음 줄에 N개의 자연수가 주어진다.\n",
        "\n",
        "각 자연수의 크기는 10,000,000를 넘지 않는다.\n",
        "\n",
        "▣ 출력설명\n",
        "\n",
        "자릿수의 합이 최대인 자연수를 출력한다. \n",
        "\n",
        "자릿수의 합이 같을 경우 입력순으로 먼저인 숫자를 출력합니다.\n",
        "\n",
        "▣ 입력예제 1 \n",
        "\n",
        "3\n",
        "\n",
        "125 15232 97\n",
        "\n",
        "▣ 출력예제 1\n",
        "\n",
        "97"
      ],
      "metadata": {
        "id": "U4RDQNx1ePZg"
      }
    },
    {
      "cell_type": "code",
      "execution_count": 32,
      "metadata": {
        "colab": {
          "base_uri": "https://localhost:8080/"
        },
        "id": "5kXBTnUyaL3y",
        "outputId": "02e1e803-5eb7-4092-b815-37940a195b91"
      },
      "outputs": [
        {
          "output_type": "stream",
          "name": "stdout",
          "text": [
            "3\n",
            "125 15232 97\n",
            "97\n"
          ]
        }
      ],
      "source": [
        " # 내 풀이 문자열로 받아서 문자열 슬라이싱을 사용해서 풀어보았다.\n",
        "\n",
        " # N을 입력받는다.\n",
        "n = int(input())\n",
        "arr = input().split()\n",
        " # 함수 작성(digit_sum)\n",
        "def digit_sum(a):\n",
        "    string = a\n",
        "    length = len(string)\n",
        "\n",
        "    sum=0\n",
        "    for i in range(length):\n",
        "        sum += int(string[i:i+1])\n",
        "    return sum\n",
        "max = 0\n",
        "index = 0\n",
        " # 숫자 출력\n",
        "for i in range(len(arr)):\n",
        "    if max < digit_sum(arr[i]):\n",
        "        max = digit_sum(arr[i])\n",
        "        index = i\n",
        "\n",
        "\n",
        "for i in range(len(arr)):\n",
        "    if arr[i]==arr[index]:\n",
        "        print(arr[i])\n",
        "        break"
      ]
    },
    {
      "cell_type": "code",
      "source": [
        "# 강의 풀이 while문으로 10으로 나누면서 나온 나머지를 더하면서 1자리씩 더한다.\n",
        "\n",
        "n = int(input())\n",
        "a = list(map(int,input().split()))\n",
        "\n",
        "def digit_sum(x):\n",
        "    sum = 0\n",
        "    while x>0:\n",
        "        sum+=x%10\n",
        "        x = x//10\n",
        "    return sum\n",
        "\n",
        "max = 0\n",
        "for x in a:\n",
        "    tot = digit_sum(x)\n",
        "    if tot>max:\n",
        "        max = tot\n",
        "        res = x\n",
        "print(res)"
      ],
      "metadata": {
        "colab": {
          "base_uri": "https://localhost:8080/"
        },
        "id": "I9MivFeAvgt_",
        "outputId": "1f916ef0-dcbd-4f4e-b428-4150f16ecf31"
      },
      "execution_count": 29,
      "outputs": [
        {
          "output_type": "stream",
          "name": "stdout",
          "text": [
            "3\n",
            "125 15232 97\n",
            "97\n"
          ]
        }
      ]
    },
    {
      "cell_type": "code",
      "source": [
        "# 강의 풀이 다른방법 문자열로 바꾼후 더하는 방법 내가 푼 풀이의 상위호환\n",
        "\n",
        "n = int(input())\n",
        "a = list(map(int,input().split()))\n",
        "\n",
        "def digit_sum(x):\n",
        "    sum=0\n",
        "    for i in str(x): # str() 들어온 수를 문자열화 시켜줌\n",
        "        sum+=int(i)\n",
        "    return sum\n",
        "\n",
        "max = 0\n",
        "for x in a:\n",
        "    tot = digit_sum(x)\n",
        "    if tot>max:\n",
        "        max = tot\n",
        "        res = x\n",
        "print(res)"
      ],
      "metadata": {
        "colab": {
          "base_uri": "https://localhost:8080/"
        },
        "id": "TCf8ULWWxChD",
        "outputId": "0d5bef26-a9dc-4416-b696-c2e52c82f342"
      },
      "execution_count": 31,
      "outputs": [
        {
          "output_type": "stream",
          "name": "stdout",
          "text": [
            "3\n",
            "125 15232 97\n",
            "97\n"
          ]
        }
      ]
    }
  ]
}