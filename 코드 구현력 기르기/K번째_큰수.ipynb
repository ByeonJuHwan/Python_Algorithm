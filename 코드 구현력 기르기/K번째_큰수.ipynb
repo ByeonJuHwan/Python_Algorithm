{
  "nbformat": 4,
  "nbformat_minor": 0,
  "metadata": {
    "colab": {
      "provenance": [],
      "authorship_tag": "ABX9TyNY1uDSDJ2S2pfp0PBxHg00",
      "include_colab_link": true
    },
    "kernelspec": {
      "name": "python3",
      "display_name": "Python 3"
    },
    "language_info": {
      "name": "python"
    }
  },
  "cells": [
    {
      "cell_type": "markdown",
      "metadata": {
        "id": "view-in-github",
        "colab_type": "text"
      },
      "source": [
        "<a href=\"https://colab.research.google.com/github/ByeonJuHwan/Python_Algorithm/blob/main/%EC%BD%94%EB%93%9C%20%EA%B5%AC%ED%98%84%EB%A0%A5%20%EA%B8%B0%EB%A5%B4%EA%B8%B0/K%EB%B2%88%EC%A7%B8_%ED%81%B0%EC%88%98.ipynb\" target=\"_parent\"><img src=\"https://colab.research.google.com/assets/colab-badge.svg\" alt=\"Open In Colab\"/></a>"
      ]
    },
    {
      "cell_type": "markdown",
      "source": [
        "# K번째 큰수\n",
        "\n",
        "현수는 1부터 100사이의 자연수가 적힌 N장의 카드를 가지고 있습니다. 같은 숫자의 카드가 여러장 있을 수 있습니다. 현수는 이 중 3장을 뽑아 각 카드에 적힌 수를 합한 값을 기록하려 고 합니다. 3장을 뽑을 수 있는 모든 경우를 기록합니다. 기록한 값 중 K번째로 큰 수를 출력 하는 프로그램을 작성하세요.\n",
        "만약 큰 수부터 만들어진 수가 25 25 23 23 22 20 19......이고 K값이 3이라면 K번째 큰 값 은 22입니다.\n",
        "\n",
        "▣ 입력설명\n",
        "\n",
        "첫 줄에 자연수 N(3<=N<=100)과 K(1<=K<=50) 입력되고, 그 다음 줄에 N개의 카드값이 입력 된다.\n",
        "\n",
        "<br>\n",
        "\n",
        "▣ 출력설명\n",
        "\n",
        "첫 줄에 K번째 수를 출력합니다. K번째 수는 반드시 존재합니다.\n",
        "\n",
        "<br>\n",
        "\n",
        "▣ 입력예제 1\n",
        "\n",
        "10 3\n",
        "\n",
        "13 15 34 23 45 65 33 11 26 42\n",
        "\n",
        "<br>\n",
        "\n",
        "▣ 출력예제 1 \n",
        "\n",
        "143"
      ],
      "metadata": {
        "id": "B512_lXW-ULI"
      }
    },
    {
      "cell_type": "markdown",
      "source": [
        "중복된 값을 저정해야하는 문제의 경우 list에 담으면 계속 중복된 값이 여러개 들어간다.\n",
        "\n",
        "이럴때는 **SET!!!!**을 사용한다.\n",
        "\n",
        "SET은 순서가 없고 중복을 허용하지않는다."
      ],
      "metadata": {
        "id": "9TzlaWWZ-Z4F"
      }
    },
    {
      "cell_type": "code",
      "execution_count": 9,
      "metadata": {
        "colab": {
          "base_uri": "https://localhost:8080/"
        },
        "id": "1pHq6mpO7euB",
        "outputId": "d297b123-6e56-461f-ed37-a23376906b62"
      },
      "outputs": [
        {
          "output_type": "stream",
          "name": "stdout",
          "text": [
            "10 3\n",
            "13 15 34 23 45 65 33 11 26 42\n",
            "143\n"
          ]
        }
      ],
      "source": [
        "# 내 풀이\n",
        "\n",
        "# N, K를 입력받는다\n",
        "N, K = map(int,input().split())\n",
        "# N의 리스트를 입력받는다\n",
        "b = list(map(int,input().split()))\n",
        "# 중복제거를 담기위해 set()을 설정한다.\n",
        "result = set()\n",
        "# 3개씩 뽑기위해 3중 for을 사용한다.\n",
        "for i in range(N):\n",
        "    for j in range(i+1,N):\n",
        "        for t in range(j+1,N):\n",
        "            result.add(b[i]+b[j]+b[t])\n",
        "# set() 에서는 sort()를 사용할 수 없기때문에 list로 변환시킨다 \n",
        "result = list(result) \n",
        "# 내림차순 변환\n",
        "result.sort(reverse=True)\n",
        "# k번째 큰수 출력\n",
        "print(result[K-1])"
      ]
    }
  ]
}