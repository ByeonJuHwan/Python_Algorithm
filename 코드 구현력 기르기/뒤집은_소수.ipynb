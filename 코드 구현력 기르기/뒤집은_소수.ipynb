{
  "nbformat": 4,
  "nbformat_minor": 0,
  "metadata": {
    "colab": {
      "provenance": [],
      "authorship_tag": "ABX9TyP7SZefz0eZ0EsarEcwNA1Y",
      "include_colab_link": true
    },
    "kernelspec": {
      "name": "python3",
      "display_name": "Python 3"
    },
    "language_info": {
      "name": "python"
    }
  },
  "cells": [
    {
      "cell_type": "markdown",
      "metadata": {
        "id": "view-in-github",
        "colab_type": "text"
      },
      "source": [
        "<a href=\"https://colab.research.google.com/github/ByeonJuHwan/Python_Algorithm/blob/main/%EC%BD%94%EB%93%9C%20%EA%B5%AC%ED%98%84%EB%A0%A5%20%EA%B8%B0%EB%A5%B4%EA%B8%B0/%EB%92%A4%EC%A7%91%EC%9D%80_%EC%86%8C%EC%88%98.ipynb\" target=\"_parent\"><img src=\"https://colab.research.google.com/assets/colab-badge.svg\" alt=\"Open In Colab\"/></a>"
      ]
    },
    {
      "cell_type": "markdown",
      "source": [
        "# 뒤집은 소수\n",
        "\n",
        "N개의 자연수가 입력되면 각 자연수를 뒤집은 후 그 뒤집은 수가 소수이면 그 수를 출력하는 \n",
        "프로그램을 작성하세요. \n",
        "\n",
        "예를 들어 32를 뒤집으면 23이고, 23은 소수이다. \n",
        "\n",
        "그러면 23을 출력\n",
        "한다. \n",
        "\n",
        "단 910를 뒤집으면 19로 숫자화 해야 한다. \n",
        "\n",
        "첫 자리부터의 연속된 0은 무시한다.\n",
        "\n",
        "\n",
        "뒤집는 함수인 def reverse(x) 와 소수인지를 확인하는 함수 def isPrime(x)를 반드시 작성하\n",
        "여 프로그래밍 한다.\n",
        "\n",
        "\n",
        "▣ 입력설명\n",
        "\n",
        "첫 줄에 자연수의 개수 N(3<=N<=100)이 주어지고, 그 다음 줄에 N개의 자연수가 주어진다.\n",
        "\n",
        "각 자연수의 크기는 100,000를 넘지 않는다.\n",
        "\n",
        "▣ 출력설명\n",
        "\n",
        "첫 줄에 뒤집은 소수를 출력합니다. 출력순서는 입력된 순서대로 출력합니다.\n",
        "\n",
        "▣ 입력예제 1 \n",
        "\n",
        "5\n",
        "\n",
        "32 55 62 3700 250\n",
        "\n",
        "▣ 출력예제 1\n",
        "\n",
        "23 73"
      ],
      "metadata": {
        "id": "LL7pomr8bJMw"
      }
    },
    {
      "cell_type": "code",
      "execution_count": 19,
      "metadata": {
        "id": "8C3NXZdgbCmR",
        "colab": {
          "base_uri": "https://localhost:8080/"
        },
        "outputId": "5152e5c1-f1de-4a1c-dd71-111d68a790a5"
      },
      "outputs": [
        {
          "output_type": "stream",
          "name": "stdout",
          "text": [
            "27\n",
            "469 84 8851 189 69 1210 682 57 6217 484 8 3590 662 36 8275 887 17 1254 462 67 8969 141 70 5603 958 100 3843 \n",
            "953 71 7 859 "
          ]
        }
      ],
      "source": [
        "# 내 풀이\n",
        "\n",
        "def reverse(x):\n",
        "    arr = []\n",
        "    for i in x:\n",
        "        arr.append(i)\n",
        "    result = []\n",
        "    for i in range(-1,-len(arr)-1,-1):\n",
        "        result.append(arr[i])\n",
        "    a=''\n",
        "    for i in result:\n",
        "        a+=i\n",
        "    return int(a)\n",
        "\n",
        "def isPrime(x):\n",
        "    if x ==1:\n",
        "        return\n",
        "    for i in range(2,x//2+1):\n",
        "        if x%i==0:\n",
        "            break\n",
        "    else:\n",
        "        print(x, end=' ')\n",
        "\n",
        "# 자연수 N을 받는다.\n",
        "n = int(input())\n",
        "# N개의 자연수 배열을 받는다\n",
        "answer = list(input().split())\n",
        "\n",
        "# 뒤집고 소수인지 확인 후 출력\n",
        "for x in answer:\n",
        "    isPrime(reverse(x))"
      ]
    },
    {
      "cell_type": "code",
      "source": [
        "# 강의 풀이\n",
        "\n",
        "def reverse(x):\n",
        "    res = 0\n",
        "    while x>0:\n",
        "        t = x % 10 # 첫 순환은 여기서 t는 x의 1의자리숫자\n",
        "        res  = res * 10 + t\n",
        "        x = x // 10\n",
        "    return res\n",
        "\n",
        "def isPrime(x):\n",
        "    if x == 1:\n",
        "        return False\n",
        "    for i in range(2,x//2+1): # 약수를 확인할때 절반으로 나눈 몫에까지 나올수 있고 거기서 +1을 해줘야 그 숫자까지 돈다.\n",
        "        if x%i == 0:\n",
        "            return False\n",
        "    else:\n",
        "        return True\n",
        "\n",
        "n = int(input())\n",
        "a = list(map(int,input().split()))\n",
        "\n",
        "for x in a:\n",
        "    tmp = reverse(x)\n",
        "    if isPrime(tmp):\n",
        "        print(tmp, end=' ')"
      ],
      "metadata": {
        "colab": {
          "base_uri": "https://localhost:8080/"
        },
        "id": "39CrWyS9INNz",
        "outputId": "7838b9f7-1241-4eab-be70-56b153aceecf"
      },
      "execution_count": 20,
      "outputs": [
        {
          "output_type": "stream",
          "name": "stdout",
          "text": [
            "27\n",
            "469 84 8851 189 69 1210 682 57 6217 484 8 3590 662 36 8275 887 17 1254 462 67 8969 141 70 5603 958 100 3843 \n",
            "953 71 7 859 "
          ]
        }
      ]
    }
  ]
}