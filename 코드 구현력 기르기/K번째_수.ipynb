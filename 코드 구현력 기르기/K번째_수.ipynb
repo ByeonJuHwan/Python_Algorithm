{
  "nbformat": 4,
  "nbformat_minor": 0,
  "metadata": {
    "colab": {
      "provenance": [],
      "authorship_tag": "ABX9TyO1VgR+dfk2SPIB9FhCxEK9",
      "include_colab_link": true
    },
    "kernelspec": {
      "name": "python3",
      "display_name": "Python 3"
    },
    "language_info": {
      "name": "python"
    }
  },
  "cells": [
    {
      "cell_type": "markdown",
      "metadata": {
        "id": "view-in-github",
        "colab_type": "text"
      },
      "source": [
        "<a href=\"https://colab.research.google.com/github/ByeonJuHwan/Python_Algorithm/blob/main/%EC%BD%94%EB%93%9C%20%EA%B5%AC%ED%98%84%EB%A0%A5%20%EA%B8%B0%EB%A5%B4%EA%B8%B0/K%EB%B2%88%EC%A7%B8_%EC%88%98.ipynb\" target=\"_parent\"><img src=\"https://colab.research.google.com/assets/colab-badge.svg\" alt=\"Open In Colab\"/></a>"
      ]
    },
    {
      "cell_type": "markdown",
      "source": [
        "K번째 수\n",
        "\n",
        "N개의 숫자로 이루어진 숫자열이 주어지면 해당 숫자열중에서 s번째부터 e번째 까지의 수를 오름 차순 정렬했을 때 k번재로 나타나는 숫자를 출력하는 프로그램을 작성하세요\n",
        "\n",
        "\n",
        "*   입력설명\n",
        "    * 첫 번째 줄에 테스트 케이스 T(1<=T<=10)이 주어진다. 각 케이스별 첫 번째 줄은 자연수 N(5<=N<=500), s, e, k가 차례로 주어진다. 두번 째 줄에 N개의 숫자가 차례로 주어진다. \n",
        "\n",
        "*   출력설명\n",
        "    * 각 케이스별 k번째 수를 아래 출력예제와 같이 출력하세요.\n",
        "\n",
        "<br>\n",
        "\n",
        "▣ 입력예제 1 \n",
        "\n",
        "2\n",
        "\n",
        "6 2 5 3\n",
        "\n",
        "5 2 7 3 8 9\n",
        "\n",
        "15 3 10 3\n",
        "\n",
        "4 15 8 16 6 6 17 3 10 11 18 7 14 7 15 \n",
        "\n",
        "<br>\n",
        "\n",
        "▣ 출력예제 1\n",
        "\n",
        "`#1 7`\n",
        "\n",
        "`#2 6`\n",
        "\n",
        "\n"
      ],
      "metadata": {
        "id": "ZCcSOKgTq9zF"
      }
    },
    {
      "cell_type": "code",
      "execution_count": 11,
      "metadata": {
        "colab": {
          "base_uri": "https://localhost:8080/"
        },
        "id": "mrOvGMHTq6v0",
        "outputId": "d139720d-774b-491c-f334-7a3ea549878f"
      },
      "outputs": [
        {
          "output_type": "stream",
          "name": "stdout",
          "text": [
            "1\n",
            "6 2 5 3\n",
            "5 2 7 3 8 9\n",
            "#1 7\n"
          ]
        }
      ],
      "source": [
        "# 내풀이\n",
        "\n",
        "# 테스트 반복 횟수 받기\n",
        "T = int(input())\n",
        "# N,s,e,k 차례로 받기\n",
        "for i in range(T):\n",
        "    N, s, e, k = map(int, input().split())\n",
        "# N 차례로 받기\n",
        "    N = list(map(int,input().split()))\n",
        "# s부터 e까지 오름차순 정렬\n",
        "    N = N[s-1:e]\n",
        "    N.sort()\n",
        "# k번째 값 예제와 같이 출력\n",
        "    print('#',i+1,sep='',end=' ')\n",
        "    print(N.pop(k-1))"
      ]
    },
    {
      "cell_type": "code",
      "source": [
        "# 강의풀이\n",
        "\n",
        "T = int(input())\n",
        "for t in range(T):\n",
        "    n, s ,e ,k = map(int, input().split())\n",
        "    a=list(map(int,input().split()))\n",
        "    a = a[s-1 : e]\n",
        "    a.sort()\n",
        "    print(\"#%d %d\" %(t+1,a[k-1])) # 문자열 포맷 사용"
      ],
      "metadata": {
        "colab": {
          "base_uri": "https://localhost:8080/"
        },
        "id": "D_zX9sa5whJm",
        "outputId": "98993a97-11be-45ea-bfc8-5f0947720ba3"
      },
      "execution_count": 14,
      "outputs": [
        {
          "output_type": "stream",
          "name": "stdout",
          "text": [
            "1\n",
            "6 2 5 3\n",
            "5 2 7 3 8 9\n",
            "#1 7\n"
          ]
        }
      ]
    }
  ]
}