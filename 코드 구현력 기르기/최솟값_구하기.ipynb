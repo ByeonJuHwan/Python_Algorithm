{
  "nbformat": 4,
  "nbformat_minor": 0,
  "metadata": {
    "colab": {
      "provenance": [],
      "authorship_tag": "ABX9TyPIN+MvSwNaApm/wIn/c/i7",
      "include_colab_link": true
    },
    "kernelspec": {
      "name": "python3",
      "display_name": "Python 3"
    },
    "language_info": {
      "name": "python"
    }
  },
  "cells": [
    {
      "cell_type": "markdown",
      "metadata": {
        "id": "view-in-github",
        "colab_type": "text"
      },
      "source": [
        "<a href=\"https://colab.research.google.com/github/ByeonJuHwan/Python_Algorithm/blob/main/%EC%BD%94%EB%93%9C%20%EA%B5%AC%ED%98%84%EB%A0%A5%20%EA%B8%B0%EB%A5%B4%EA%B8%B0/%EC%B5%9C%EC%86%9F%EA%B0%92_%EA%B5%AC%ED%95%98%EA%B8%B0.ipynb\" target=\"_parent\"><img src=\"https://colab.research.google.com/assets/colab-badge.svg\" alt=\"Open In Colab\"/></a>"
      ]
    },
    {
      "cell_type": "markdown",
      "source": [
        "# 최솟값 구하기"
      ],
      "metadata": {
        "id": "XpsKAgrG_apM"
      }
    },
    {
      "cell_type": "code",
      "execution_count": 3,
      "metadata": {
        "id": "we3ML6qE_V5A",
        "colab": {
          "base_uri": "https://localhost:8080/"
        },
        "outputId": "3c563065-116d-4b83-8ef2-ea0bc64c1ff7"
      },
      "outputs": [
        {
          "output_type": "stream",
          "name": "stdout",
          "text": [
            "inf\n",
            "2\n",
            "2\n",
            "2\n"
          ]
        }
      ],
      "source": [
        "arr=[5,3,7,9,2,5,6,2]\n",
        "# float('inf')는 파이썬이 나타낼수 있는 가장 큰값을 나타낸다.\n",
        "arrMin=float('inf')\n",
        "print(arrMin)\n",
        "for i in range(len(arr)):\n",
        "    if arr[i] < arrMin:\n",
        "        arrMin = arr[i]\n",
        "print(arrMin)\n",
        "\n",
        "# 같은 방법으로 부등호만 바뀌어도 다른값이 나온다 예를들어\n",
        "# 부등호가 < 에서 <= 로 바뀌면 arr[4]의 2가 처음의 답이다가\n",
        "# arr[7]의 2가 답으로 바뀐다.\n",
        "# 문제가 순서도 중요시하는 문제였을경우 답이 달라지므로 부등호도 신경을 써야한다.\n",
        "for i in range(len(arr)):\n",
        "    if arr[i] <= arrMin:\n",
        "        arrMin = arr[i]\n",
        "print(arrMin)\n",
        "\n",
        "# 애초에 배열의 첫번째 값을 가장 작은값이라고 잡고가도 된다.\n",
        "arrMin=arr[0]\n",
        "for i in range(1,len(arr)): # 이제 arr[1]부터 돌게 시킨다.\n",
        "    if arr[i] <= arrMin:\n",
        "        arrMin = arr[i]\n",
        "print(arrMin)"
      ]
    }
  ]
}