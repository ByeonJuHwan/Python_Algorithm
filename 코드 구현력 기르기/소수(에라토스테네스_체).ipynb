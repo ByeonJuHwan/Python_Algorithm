{
  "nbformat": 4,
  "nbformat_minor": 0,
  "metadata": {
    "colab": {
      "provenance": [],
      "authorship_tag": "ABX9TyMHasPFD3UD3P6Fx/vQYaoq",
      "include_colab_link": true
    },
    "kernelspec": {
      "name": "python3",
      "display_name": "Python 3"
    },
    "language_info": {
      "name": "python"
    }
  },
  "cells": [
    {
      "cell_type": "markdown",
      "metadata": {
        "id": "view-in-github",
        "colab_type": "text"
      },
      "source": [
        "<a href=\"https://colab.research.google.com/github/ByeonJuHwan/Python_Algorithm/blob/main/%EC%BD%94%EB%93%9C%20%EA%B5%AC%ED%98%84%EB%A0%A5%20%EA%B8%B0%EB%A5%B4%EA%B8%B0/%EC%86%8C%EC%88%98(%EC%97%90%EB%9D%BC%ED%86%A0%EC%8A%A4%ED%85%8C%EB%84%A4%EC%8A%A4_%EC%B2%B4).ipynb\" target=\"_parent\"><img src=\"https://colab.research.google.com/assets/colab-badge.svg\" alt=\"Open In Colab\"/></a>"
      ]
    },
    {
      "cell_type": "markdown",
      "source": [
        "# 소수(에라토스테네스 체)\n",
        "자연수 N이 입력되면 1부터 N까지의 소수의 개수를 출력하는 프로그램을 작성하세요. \n",
        "\n",
        "만약 20이 입력되면 1부터 20까지의 소수는 2, 3, 5, 7, 11, 13, 17, 19로 총 8개입니다.\n",
        "\n",
        "제한시간은 1초입니다. \n",
        "\n",
        "▣ 입력설명\n",
        "\n",
        "첫 줄에 자연수의 개수 N(2<=N<=200,000)이 주어집니다.\n",
        "\n",
        "▣ 출력설명\n",
        "\n",
        "첫 줄에 소수의 개수를 출력합니다.\n",
        "\n",
        "▣ 입력예제 1 \n",
        "\n",
        "20\n",
        "\n",
        "▣ 출력예제 1\n",
        "\n",
        "8"
      ],
      "metadata": {
        "id": "FS0_INWdy-hz"
      }
    },
    {
      "cell_type": "code",
      "execution_count": 5,
      "metadata": {
        "id": "XOmC2dHOy9iC"
      },
      "outputs": [],
      "source": [
        "# 내 풀이 : 제한시간이 1초이므로 n**2같은 풀이에는 무리가 있다.\n",
        "# 실패.."
      ]
    },
    {
      "cell_type": "code",
      "source": [
        "# 강의 풀이\n",
        "\n",
        "n = int(input())\n",
        "ch = [0]*(n+1) # 이래야 인덱스 번호까지 배열이생김\n",
        "cnt = 0\n",
        "for i in range(2,n+1):\n",
        "    if ch[i]==0:\n",
        "        cnt += 1\n",
        "        for j in range(i,n+1,i): # 스텝값을 주면서 j가 i의 배수만큼 증가할수 있게한다. 또 스텝값을 주면 시간복잡도를 줄일 수 있다.!!\n",
        "            ch[j]=1\n",
        "print(cnt)"
      ],
      "metadata": {
        "colab": {
          "base_uri": "https://localhost:8080/"
        },
        "id": "8wGPQBzOY6lv",
        "outputId": "ccc0986c-6c4c-4370-dd00-58510668635d"
      },
      "execution_count": 4,
      "outputs": [
        {
          "output_type": "stream",
          "name": "stdout",
          "text": [
            "20\n",
            "8\n"
          ]
        }
      ]
    }
  ]
}